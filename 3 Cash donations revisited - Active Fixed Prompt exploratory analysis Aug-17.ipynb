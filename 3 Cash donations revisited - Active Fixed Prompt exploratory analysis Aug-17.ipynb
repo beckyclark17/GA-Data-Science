{
 "cells": [
  {
   "cell_type": "markdown",
   "metadata": {},
   "source": [
    "## Fixed-prompt Cash Donations Exploratory Analysis \n",
    "**Purpose**   \n",
    "To visualise the relationships among the data and inform the kinds of data transformations that you'll need for machine learning models. \n",
    "\n",
    "This version analyses the 2017 June Cash appeal mailing, which included active and lapsed segments and each with a variable and fixed prompt test.  \n",
    "I will repeat the earlier analysis of lapsed supporters to see if active supporters behave in the same way/ the same relationships are demonstrated."
   ]
  },
  {
   "cell_type": "markdown",
   "metadata": {},
   "source": [
    "<img src=\"June Cash Responses.png\">"
   ]
  },
  {
   "cell_type": "markdown",
   "metadata": {},
   "source": [
    "**Responses ** (as at 30/08/2017)  \n",
    "The active group respond well to the fixed £20 ask, the response rate is 8.3%, 0.5% higher than the variable group. However, the \"Income Per Donor Approached\" is 4p lower per supporter due to a lower average gift. The lapsed segment perform similarly in terms of response, and the IPDA is also lower for the fixed prompt.  \n",
    "\n",
    "The purpose of the fixed prompt was not to see if it could generate more income, but to provide a sample of supporters which have the same influence, rather than a variable rate which prevents you from understanding the relationship because donated amount and other characteristics.  \n",
    "\n",
    "In addition, this test tells us that what you ask for influences what you get and how many supporters respond.  It also confirms that the current strategy performs better than a fixed ask, in terms of IPDA."
   ]
  },
  {
   "cell_type": "code",
   "execution_count": 1,
   "metadata": {
    "collapsed": false
   },
   "outputs": [],
   "source": [
    "#Loading packages \n",
    "from sklearn import datasets, neighbors, metrics\n",
    "import pandas as pd\n",
    "import seaborn as sns\n",
    "import matplotlib.pyplot as plt\n",
    "import numpy as np \n",
    "%matplotlib inline "
   ]
  },
  {
   "cell_type": "markdown",
   "metadata": {},
   "source": [
    "## Importing data  \n",
    "Data imported directly from unicef-dwh SQL server the table created by the following script;  \n",
    "\\\\unicef-data\\Data\\Data\\Fund\\Public\\Internal insight\\Analysis\\2017 Projects\\K037 Cash Prompt Optimisation\\3 Working files\\Cash mailings v2.sql"
   ]
  },
  {
   "cell_type": "code",
   "execution_count": 2,
   "metadata": {
    "collapsed": false
   },
   "outputs": [],
   "source": [
    "## I ran \"pip install pypyodbc\" from the command line \n",
    "import pypyodbc , pandas as pd \n",
    "connection = pypyodbc.connect('Driver={SQL Server};'\n",
    "                              'Server=unicef-dwh;'\n",
    "                              'Database = analystdata;'\n",
    "                              'Trusted_Connection=yes;')\n",
    "cursor = connection.cursor()"
   ]
  },
  {
   "cell_type": "code",
   "execution_count": 3,
   "metadata": {
    "collapsed": false
   },
   "outputs": [],
   "source": [
    "## just keeping those that responded to a fixed ask for the first stage of modelling \n",
    "SQLCommand = (\"SELECT * FROM analystdata.dbo.K037_cashTesting_v2 where responded=1 and activitycode in('KA64','KA63')\") \n",
    "cursor.execute(SQLCommand) \n",
    "\n",
    "columns = [column[0] for column in cursor.description]\n",
    "data= cursor.fetchall()\n",
    "\n",
    "for i in range(0,len(data)):\n",
    "    data[i]=tuple(data[i])\n",
    "    \n",
    "df_orig = pd.DataFrame(data, columns = columns)\n",
    "connection.close()"
   ]
  },
  {
   "cell_type": "code",
   "execution_count": 15,
   "metadata": {
    "collapsed": false
   },
   "outputs": [
    {
     "data": {
      "text/plain": [
       "Index(['activitycode', 'campaignname', 'nlcode', 'lalmsreferencecode',\n",
       "       'prompttype', 'audience', 'value', 'fixedprompt', 'idcontact',\n",
       "       'dateprinted', 'segmentreference', 'postcode', 'mosaic',\n",
       "       'audienceprofile2016', 'responded', 'donatedamount', 'giftaid',\n",
       "       'variableprompt1', 'variableprompt2', 'variableprompt3',\n",
       "       'lastdonationemer', 'lastoneoffdate', 'oneoffavgdonatedlast24m',\n",
       "       'oneoffdonationsl24m', 'everpledgeflag', 'alldonationsavgl24m',\n",
       "       'firstdonationdate', 'lastdonationdate', 'oneoffltv', 'allltv',\n",
       "       'lastoneoffamount', 'lastoneoffga', 'lifetimedonations',\n",
       "       'monthssincelastoneoff', 'monthssincefirstdonation',\n",
       "       'monthssincelastdonation'],\n",
       "      dtype='object')"
      ]
     },
     "execution_count": 15,
     "metadata": {},
     "output_type": "execute_result"
    }
   ],
   "source": [
    "df_orig.columns\n",
    "# df_orig['audienceprofile2016'].drop_duplicates()"
   ]
  },
  {
   "cell_type": "code",
   "execution_count": 16,
   "metadata": {
    "collapsed": false,
    "scrolled": true
   },
   "outputs": [
    {
     "name": "stdout",
     "output_type": "stream",
     "text": [
      "(1758, 22)\n",
      "activitycode , Type: object , Nulls: 0\n",
      "prompttype , Type: object , Nulls: 0\n",
      "mosaic , Type: object , Nulls: 24\n",
      "audienceprofile2016 , Type: object , Nulls: 17\n",
      "donatedamount , Type: object , Nulls: 0\n",
      "fixedprompt , Type: object , Nulls: 1573\n",
      "variableprompt1 , Type: object , Nulls: 0\n",
      "giftaid , Type: object , Nulls: 0\n",
      "lastdonationemer , Type: int64 , Nulls: 0\n",
      "oneoffavgdonatedlast24m , Type: object , Nulls: 0\n",
      "oneoffdonationsl24m , Type: int64 , Nulls: 0\n",
      "everpledgeflag , Type: int64 , Nulls: 0\n",
      "alldonationsavgl24m , Type: object , Nulls: 0\n",
      "oneoffltv , Type: object , Nulls: 0\n",
      "allltv , Type: object , Nulls: 0\n",
      "lastoneoffamount , Type: object , Nulls: 0\n",
      "lastoneoffga , Type: int64 , Nulls: 0\n",
      "lifetimedonations , Type: int64 , Nulls: 0\n",
      "monthssincelastoneoff , Type: int64 , Nulls: 0\n",
      "monthssincefirstdonation , Type: int64 , Nulls: 0\n",
      "monthssincelastdonation , Type: int64 , Nulls: 0\n",
      "donationgiftaid_flag , Type: int64 , Nulls: 0\n"
     ]
    },
    {
     "name": "stderr",
     "output_type": "stream",
     "text": [
      "C:\\Users\\BeckyC\\AppData\\Local\\Continuum\\Anaconda3\\lib\\site-packages\\ipykernel\\__main__.py:12: SettingWithCopyWarning: \n",
      "A value is trying to be set on a copy of a slice from a DataFrame.\n",
      "Try using .loc[row_indexer,col_indexer] = value instead\n",
      "\n",
      "See the caveats in the documentation: http://pandas.pydata.org/pandas-docs/stable/indexing.html#indexing-view-versus-copy\n"
     ]
    }
   ],
   "source": [
    "##Renaming and dropping features that wouldn't be a predictor (eg personal details, unique ID's) \n",
    "#df = df.loc[df['responded'] == 1]  Applied this in SQL above.\n",
    "\n",
    "features = ['activitycode', 'prompttype', 'mosaic', #'postcode', 'responded', 'dateprinted','audience',\n",
    "            'audienceprofile2016', 'donatedamount','fixedprompt', 'variableprompt1', 'giftaid',# 'variableprompt2','variableprompt3', \n",
    "            'lastdonationemer',  'oneoffavgdonatedlast24m','oneoffdonationsl24m', \n",
    "            'everpledgeflag', 'alldonationsavgl24m',#'firstdonationdate', 'lastdonationdate', 'lastoneoffdate',\n",
    "            'oneoffltv', 'allltv','lastoneoffamount', 'lastoneoffga', 'lifetimedonations', 'monthssincelastoneoff',\n",
    "            'monthssincefirstdonation', 'monthssincelastdonation']\n",
    "df = df_orig[features]\n",
    "\n",
    "df['donationgiftaid_flag'] = df.giftaid.apply(lambda x: 1 if x > 0 else 0) \n",
    "\n",
    "print(df.shape)\n",
    "\n",
    "## How many nulls are there? What are the datatypes?\n",
    "for x in df.columns.values:\n",
    "    print (x,# print variable name \n",
    "           ', Type:', df[x].dtypes, #print data type \n",
    "           ', Nulls:', df[x].isnull().sum()) # print number of nulls \n"
   ]
  },
  {
   "cell_type": "markdown",
   "metadata": {},
   "source": [
    "<font color = 'red'> Nb 24 supporters have a null Mosaic & 17 supporters have a null audience profile, this is because supporters aren't in the finalSupporter table </font>"
   ]
  },
  {
   "cell_type": "markdown",
   "metadata": {},
   "source": [
    "## Data Science workflow \n",
    "1) Parse the data - Exploratory analysis:  \n",
    "    Missing values  \n",
    "    min, max, mean, standard deviation, outliers  \n",
    "    normally distributed?  \n",
    "2) Mine the data  (representative sampling techniques, clean, derive fields, how to address missing values)  \n",
    "3) Refine the data (identify trends, outliers, descriptive statistics, document, transform)  \n"
   ]
  },
  {
   "cell_type": "code",
   "execution_count": 17,
   "metadata": {
    "collapsed": false
   },
   "outputs": [
    {
     "name": "stderr",
     "output_type": "stream",
     "text": [
      "C:\\Users\\BeckyC\\AppData\\Local\\Continuum\\Anaconda3\\lib\\site-packages\\ipykernel\\__main__.py:5: SettingWithCopyWarning: \n",
      "A value is trying to be set on a copy of a slice from a DataFrame.\n",
      "Try using .loc[row_indexer,col_indexer] = value instead\n",
      "\n",
      "See the caveats in the documentation: http://pandas.pydata.org/pandas-docs/stable/indexing.html#indexing-view-versus-copy\n",
      "C:\\Users\\BeckyC\\AppData\\Local\\Continuum\\Anaconda3\\lib\\site-packages\\ipykernel\\__main__.py:8: SettingWithCopyWarning: \n",
      "A value is trying to be set on a copy of a slice from a DataFrame.\n",
      "Try using .loc[row_indexer,col_indexer] = value instead\n",
      "\n",
      "See the caveats in the documentation: http://pandas.pydata.org/pandas-docs/stable/indexing.html#indexing-view-versus-copy\n",
      "C:\\Users\\BeckyC\\AppData\\Local\\Continuum\\Anaconda3\\lib\\site-packages\\ipykernel\\__main__.py:9: SettingWithCopyWarning: \n",
      "A value is trying to be set on a copy of a slice from a DataFrame.\n",
      "Try using .loc[row_indexer,col_indexer] = value instead\n",
      "\n",
      "See the caveats in the documentation: http://pandas.pydata.org/pandas-docs/stable/indexing.html#indexing-view-versus-copy\n",
      "C:\\Users\\BeckyC\\AppData\\Local\\Continuum\\Anaconda3\\lib\\site-packages\\ipykernel\\__main__.py:14: SettingWithCopyWarning: \n",
      "A value is trying to be set on a copy of a slice from a DataFrame.\n",
      "Try using .loc[row_indexer,col_indexer] = value instead\n",
      "\n",
      "See the caveats in the documentation: http://pandas.pydata.org/pandas-docs/stable/indexing.html#indexing-view-versus-copy\n"
     ]
    },
    {
     "name": "stdout",
     "output_type": "stream",
     "text": [
      "activitycode                 object\n",
      "prompttype                   object\n",
      "mosaic                       object\n",
      "audienceprofile2016          object\n",
      "donatedamount               float64\n",
      "fixedprompt                 float64\n",
      "variableprompt1             float64\n",
      "giftaid                     float64\n",
      "lastdonationemer              int64\n",
      "oneoffavgdonatedlast24m     float64\n",
      "oneoffdonationsl24m           int64\n",
      "everpledgeflag                int64\n",
      "alldonationsavgl24m         float64\n",
      "oneoffltv                   float64\n",
      "allltv                      float64\n",
      "lastoneoffamount            float64\n",
      "lastoneoffga                  int64\n",
      "lifetimedonations             int64\n",
      "monthssincelastoneoff         int64\n",
      "monthssincefirstdonation      int64\n",
      "monthssincelastdonation       int64\n",
      "donationgiftaid_flag          int64\n",
      "fixed_pct                   float64\n",
      "var_pct                     float64\n",
      "dtype: object\n"
     ]
    },
    {
     "data": {
      "text/html": [
       "<div>\n",
       "<table border=\"1\" class=\"dataframe\">\n",
       "  <thead>\n",
       "    <tr style=\"text-align: right;\">\n",
       "      <th></th>\n",
       "      <th>activitycode</th>\n",
       "      <th>prompttype</th>\n",
       "      <th>mosaic</th>\n",
       "      <th>audienceprofile2016</th>\n",
       "      <th>donatedamount</th>\n",
       "      <th>fixedprompt</th>\n",
       "      <th>variableprompt1</th>\n",
       "      <th>giftaid</th>\n",
       "      <th>lastdonationemer</th>\n",
       "      <th>oneoffavgdonatedlast24m</th>\n",
       "      <th>...</th>\n",
       "      <th>allltv</th>\n",
       "      <th>lastoneoffamount</th>\n",
       "      <th>lastoneoffga</th>\n",
       "      <th>lifetimedonations</th>\n",
       "      <th>monthssincelastoneoff</th>\n",
       "      <th>monthssincefirstdonation</th>\n",
       "      <th>monthssincelastdonation</th>\n",
       "      <th>donationgiftaid_flag</th>\n",
       "      <th>fixed_pct</th>\n",
       "      <th>var_pct</th>\n",
       "    </tr>\n",
       "  </thead>\n",
       "  <tbody>\n",
       "    <tr>\n",
       "      <th>0</th>\n",
       "      <td>KA63</td>\n",
       "      <td>variable</td>\n",
       "      <td>C13</td>\n",
       "      <td>Rapid Responders</td>\n",
       "      <td>20.0</td>\n",
       "      <td>NaN</td>\n",
       "      <td>20.0</td>\n",
       "      <td>0.0</td>\n",
       "      <td>1</td>\n",
       "      <td>20.0</td>\n",
       "      <td>...</td>\n",
       "      <td>391.4</td>\n",
       "      <td>20.0</td>\n",
       "      <td>0</td>\n",
       "      <td>15</td>\n",
       "      <td>8</td>\n",
       "      <td>319</td>\n",
       "      <td>8</td>\n",
       "      <td>0</td>\n",
       "      <td>NaN</td>\n",
       "      <td>1.0</td>\n",
       "    </tr>\n",
       "  </tbody>\n",
       "</table>\n",
       "<p>1 rows × 24 columns</p>\n",
       "</div>"
      ],
      "text/plain": [
       "  activitycode prompttype mosaic audienceprofile2016  donatedamount  \\\n",
       "0         KA63   variable    C13    Rapid Responders           20.0   \n",
       "\n",
       "   fixedprompt  variableprompt1  giftaid  lastdonationemer  \\\n",
       "0          NaN             20.0      0.0                 1   \n",
       "\n",
       "   oneoffavgdonatedlast24m   ...     allltv  lastoneoffamount  lastoneoffga  \\\n",
       "0                     20.0   ...      391.4              20.0             0   \n",
       "\n",
       "   lifetimedonations  monthssincelastoneoff  monthssincefirstdonation  \\\n",
       "0                 15                      8                       319   \n",
       "\n",
       "   monthssincelastdonation  donationgiftaid_flag  fixed_pct  var_pct  \n",
       "0                        8                     0        NaN      1.0  \n",
       "\n",
       "[1 rows x 24 columns]"
      ]
     },
     "execution_count": 17,
     "metadata": {},
     "output_type": "execute_result"
    }
   ],
   "source": [
    "##Changing data types\n",
    "num_features = ['donatedamount', 'giftaid','fixedprompt', 'variableprompt1','oneoffavgdonatedlast24m' ,'alldonationsavgl24m',\n",
    "               'oneoffltv', 'allltv', 'lastoneoffamount' ]\n",
    "for x in num_features:\n",
    "    df[x] = df[x].astype(float)\n",
    "\n",
    "# creating two fields to calculate the donation given as a percentage of the fixed prompt and a pct of the variable prompt.  \n",
    "df['fixed_pct'] = df.donatedamount/df.fixedprompt\n",
    "df['var_pct'] = df.donatedamount/df.variableprompt1 \n",
    "\n",
    "##Filling nulls with 0\n",
    "for col in ['oneoffdonationsl24m','everpledgeflag', 'alldonationsavgl24m','oneoffltv', 'allltv', \n",
    "            'lastoneoffamount','lifetimedonations', 'lastoneoffga']: \n",
    "    df[col] = df[col].fillna(0) \n",
    "\n",
    "## Moving \"null\" audience types into one classification \n",
    "df['audienceprofile2016'].fillna(\"Unclassified\") \n",
    "\n",
    "print(df.dtypes)\n",
    "df.head(1)"
   ]
  },
  {
   "cell_type": "markdown",
   "metadata": {},
   "source": [
    "### Summary Statistics & Plots"
   ]
  },
  {
   "cell_type": "code",
   "execution_count": 18,
   "metadata": {
    "collapsed": false
   },
   "outputs": [
    {
     "name": "stdout",
     "output_type": "stream",
     "text": [
      "donated upper whisker: prompttype\n",
      "fixed       35.0\n",
      "variable    60.0\n",
      "Name: donatedamount, dtype: float64\n"
     ]
    }
   ],
   "source": [
    "Q1 = df['donatedamount'].groupby(df.prompttype).quantile(.25)\n",
    "Q3 = df['donatedamount'].groupby(df.prompttype).quantile(.75)\n",
    "print('donated upper whisker:', Q3+((Q3-Q1)*1.5))"
   ]
  },
  {
   "cell_type": "code",
   "execution_count": 19,
   "metadata": {
    "collapsed": false
   },
   "outputs": [
    {
     "data": {
      "text/html": [
       "<div>\n",
       "<table border=\"1\" class=\"dataframe\">\n",
       "  <thead>\n",
       "    <tr style=\"text-align: right;\">\n",
       "      <th></th>\n",
       "      <th></th>\n",
       "      <th>donatedamount</th>\n",
       "      <th>fixed_pct</th>\n",
       "      <th>var_pct</th>\n",
       "      <th>variableprompt1</th>\n",
       "    </tr>\n",
       "    <tr>\n",
       "      <th>prompttype</th>\n",
       "      <th></th>\n",
       "      <th></th>\n",
       "      <th></th>\n",
       "      <th></th>\n",
       "      <th></th>\n",
       "    </tr>\n",
       "  </thead>\n",
       "  <tbody>\n",
       "    <tr>\n",
       "      <th rowspan=\"8\" valign=\"top\">fixed</th>\n",
       "      <th>count</th>\n",
       "      <td>185.000000</td>\n",
       "      <td>185.000000</td>\n",
       "      <td>185.000000</td>\n",
       "      <td>185.000000</td>\n",
       "    </tr>\n",
       "    <tr>\n",
       "      <th>mean</th>\n",
       "      <td>19.467568</td>\n",
       "      <td>0.973378</td>\n",
       "      <td>0.965277</td>\n",
       "      <td>22.308108</td>\n",
       "    </tr>\n",
       "    <tr>\n",
       "      <th>std</th>\n",
       "      <td>12.268909</td>\n",
       "      <td>0.613445</td>\n",
       "      <td>0.375570</td>\n",
       "      <td>14.504766</td>\n",
       "    </tr>\n",
       "    <tr>\n",
       "      <th>min</th>\n",
       "      <td>1.000000</td>\n",
       "      <td>0.050000</td>\n",
       "      <td>0.333333</td>\n",
       "      <td>1.000000</td>\n",
       "    </tr>\n",
       "    <tr>\n",
       "      <th>25%</th>\n",
       "      <td>10.000000</td>\n",
       "      <td>0.500000</td>\n",
       "      <td>0.714286</td>\n",
       "      <td>10.000000</td>\n",
       "    </tr>\n",
       "    <tr>\n",
       "      <th>50%</th>\n",
       "      <td>20.000000</td>\n",
       "      <td>1.000000</td>\n",
       "      <td>1.000000</td>\n",
       "      <td>20.000000</td>\n",
       "    </tr>\n",
       "    <tr>\n",
       "      <th>75%</th>\n",
       "      <td>20.000000</td>\n",
       "      <td>1.000000</td>\n",
       "      <td>1.000000</td>\n",
       "      <td>30.000000</td>\n",
       "    </tr>\n",
       "    <tr>\n",
       "      <th>max</th>\n",
       "      <td>80.000000</td>\n",
       "      <td>4.000000</td>\n",
       "      <td>3.200000</td>\n",
       "      <td>70.000000</td>\n",
       "    </tr>\n",
       "    <tr>\n",
       "      <th rowspan=\"8\" valign=\"top\">variable</th>\n",
       "      <th>count</th>\n",
       "      <td>1573.000000</td>\n",
       "      <td>0.000000</td>\n",
       "      <td>1573.000000</td>\n",
       "      <td>1573.000000</td>\n",
       "    </tr>\n",
       "    <tr>\n",
       "      <th>mean</th>\n",
       "      <td>21.231087</td>\n",
       "      <td>NaN</td>\n",
       "      <td>1.080956</td>\n",
       "      <td>20.430388</td>\n",
       "    </tr>\n",
       "    <tr>\n",
       "      <th>std</th>\n",
       "      <td>20.040977</td>\n",
       "      <td>NaN</td>\n",
       "      <td>0.572540</td>\n",
       "      <td>14.935093</td>\n",
       "    </tr>\n",
       "    <tr>\n",
       "      <th>min</th>\n",
       "      <td>0.250000</td>\n",
       "      <td>NaN</td>\n",
       "      <td>0.050000</td>\n",
       "      <td>1.000000</td>\n",
       "    </tr>\n",
       "    <tr>\n",
       "      <th>25%</th>\n",
       "      <td>10.000000</td>\n",
       "      <td>NaN</td>\n",
       "      <td>1.000000</td>\n",
       "      <td>10.000000</td>\n",
       "    </tr>\n",
       "    <tr>\n",
       "      <th>50%</th>\n",
       "      <td>20.000000</td>\n",
       "      <td>NaN</td>\n",
       "      <td>1.000000</td>\n",
       "      <td>20.000000</td>\n",
       "    </tr>\n",
       "    <tr>\n",
       "      <th>75%</th>\n",
       "      <td>30.000000</td>\n",
       "      <td>NaN</td>\n",
       "      <td>1.111111</td>\n",
       "      <td>25.000000</td>\n",
       "    </tr>\n",
       "    <tr>\n",
       "      <th>max</th>\n",
       "      <td>360.000000</td>\n",
       "      <td>NaN</td>\n",
       "      <td>14.851500</td>\n",
       "      <td>100.000000</td>\n",
       "    </tr>\n",
       "  </tbody>\n",
       "</table>\n",
       "</div>"
      ],
      "text/plain": [
       "                  donatedamount   fixed_pct      var_pct  variableprompt1\n",
       "prompttype                                                               \n",
       "fixed      count     185.000000  185.000000   185.000000       185.000000\n",
       "           mean       19.467568    0.973378     0.965277        22.308108\n",
       "           std        12.268909    0.613445     0.375570        14.504766\n",
       "           min         1.000000    0.050000     0.333333         1.000000\n",
       "           25%        10.000000    0.500000     0.714286        10.000000\n",
       "           50%        20.000000    1.000000     1.000000        20.000000\n",
       "           75%        20.000000    1.000000     1.000000        30.000000\n",
       "           max        80.000000    4.000000     3.200000        70.000000\n",
       "variable   count    1573.000000    0.000000  1573.000000      1573.000000\n",
       "           mean       21.231087         NaN     1.080956        20.430388\n",
       "           std        20.040977         NaN     0.572540        14.935093\n",
       "           min         0.250000         NaN     0.050000         1.000000\n",
       "           25%        10.000000         NaN     1.000000        10.000000\n",
       "           50%        20.000000         NaN     1.000000        20.000000\n",
       "           75%        30.000000         NaN     1.111111        25.000000\n",
       "           max       360.000000         NaN    14.851500       100.000000"
      ]
     },
     "execution_count": 19,
     "metadata": {},
     "output_type": "execute_result"
    }
   ],
   "source": [
    "cols=['donatedamount','fixed_pct','var_pct', 'variableprompt1']\n",
    "df[cols].groupby(by=df.prompttype).describe()"
   ]
  },
  {
   "cell_type": "markdown",
   "metadata": {},
   "source": [
    "The fixed donated mean is £19.46 and £1.77 less than the variable group.  The spread of values for the variable group is greater, as represented by std dev of 20, vesus 12 for the fixed group. Also shown below in the box plot.  \n",
    "Supporters who gave from the fixed test gave 97% of the prompt, and 96% of the alternative variable prompt they would have ordinarily received.  This suggests that the donations have been influenced by the prompt, and that the average the variable rate prompt also averages at around £20."
   ]
  },
  {
   "cell_type": "code",
   "execution_count": 20,
   "metadata": {
    "collapsed": false
   },
   "outputs": [
    {
     "data": {
      "image/png": "[encoded data removed]",
      "text/plain": [
       "<matplotlib.figure.Figure at 0xc729550>"
      ]
     },
     "metadata": {},
     "output_type": "display_data"
    }
   ],
   "source": [
    "fig, ax = plt.subplots()\n",
    "box = df.boxplot(column='donatedamount',by='prompttype',ax=ax, sym='', figsize=(15,5)) \n",
    "ax.margins(y=0.05) # this adds 5% of the range to the y axis\n",
    "plt.show()"
   ]
  },
  {
   "cell_type": "code",
   "execution_count": 21,
   "metadata": {
    "collapsed": false
   },
   "outputs": [
    {
     "data": {
      "text/html": [
       "<div>\n",
       "<table border=\"1\" class=\"dataframe\">\n",
       "  <thead>\n",
       "    <tr style=\"text-align: right;\">\n",
       "      <th></th>\n",
       "      <th></th>\n",
       "      <th>oneoffavgdonatedlast24m</th>\n",
       "      <th>oneoffdonationsl24m</th>\n",
       "      <th>everpledgeflag</th>\n",
       "    </tr>\n",
       "    <tr>\n",
       "      <th>prompttype</th>\n",
       "      <th></th>\n",
       "      <th></th>\n",
       "      <th></th>\n",
       "      <th></th>\n",
       "    </tr>\n",
       "  </thead>\n",
       "  <tbody>\n",
       "    <tr>\n",
       "      <th rowspan=\"8\" valign=\"top\">fixed</th>\n",
       "      <th>count</th>\n",
       "      <td>185.000000</td>\n",
       "      <td>185.000000</td>\n",
       "      <td>185.000000</td>\n",
       "    </tr>\n",
       "    <tr>\n",
       "      <th>mean</th>\n",
       "      <td>19.988418</td>\n",
       "      <td>6.713514</td>\n",
       "      <td>0.059459</td>\n",
       "    </tr>\n",
       "    <tr>\n",
       "      <th>std</th>\n",
       "      <td>13.608554</td>\n",
       "      <td>3.889658</td>\n",
       "      <td>0.237124</td>\n",
       "    </tr>\n",
       "    <tr>\n",
       "      <th>min</th>\n",
       "      <td>0.000000</td>\n",
       "      <td>1.000000</td>\n",
       "      <td>0.000000</td>\n",
       "    </tr>\n",
       "    <tr>\n",
       "      <th>25%</th>\n",
       "      <td>10.000000</td>\n",
       "      <td>4.000000</td>\n",
       "      <td>0.000000</td>\n",
       "    </tr>\n",
       "    <tr>\n",
       "      <th>50%</th>\n",
       "      <td>18.333300</td>\n",
       "      <td>6.000000</td>\n",
       "      <td>0.000000</td>\n",
       "    </tr>\n",
       "    <tr>\n",
       "      <th>75%</th>\n",
       "      <td>26.666600</td>\n",
       "      <td>9.000000</td>\n",
       "      <td>0.000000</td>\n",
       "    </tr>\n",
       "    <tr>\n",
       "      <th>max</th>\n",
       "      <td>63.333300</td>\n",
       "      <td>17.000000</td>\n",
       "      <td>1.000000</td>\n",
       "    </tr>\n",
       "    <tr>\n",
       "      <th rowspan=\"8\" valign=\"top\">variable</th>\n",
       "      <th>count</th>\n",
       "      <td>1573.000000</td>\n",
       "      <td>1573.000000</td>\n",
       "      <td>1573.000000</td>\n",
       "    </tr>\n",
       "    <tr>\n",
       "      <th>mean</th>\n",
       "      <td>18.310245</td>\n",
       "      <td>7.050858</td>\n",
       "      <td>0.062301</td>\n",
       "    </tr>\n",
       "    <tr>\n",
       "      <th>std</th>\n",
       "      <td>13.995836</td>\n",
       "      <td>4.048838</td>\n",
       "      <td>0.241779</td>\n",
       "    </tr>\n",
       "    <tr>\n",
       "      <th>min</th>\n",
       "      <td>0.000000</td>\n",
       "      <td>1.000000</td>\n",
       "      <td>0.000000</td>\n",
       "    </tr>\n",
       "    <tr>\n",
       "      <th>25%</th>\n",
       "      <td>9.375000</td>\n",
       "      <td>4.000000</td>\n",
       "      <td>0.000000</td>\n",
       "    </tr>\n",
       "    <tr>\n",
       "      <th>50%</th>\n",
       "      <td>15.000000</td>\n",
       "      <td>6.000000</td>\n",
       "      <td>0.000000</td>\n",
       "    </tr>\n",
       "    <tr>\n",
       "      <th>75%</th>\n",
       "      <td>25.000000</td>\n",
       "      <td>10.000000</td>\n",
       "      <td>0.000000</td>\n",
       "    </tr>\n",
       "    <tr>\n",
       "      <th>max</th>\n",
       "      <td>100.000000</td>\n",
       "      <td>19.000000</td>\n",
       "      <td>1.000000</td>\n",
       "    </tr>\n",
       "  </tbody>\n",
       "</table>\n",
       "</div>"
      ],
      "text/plain": [
       "                  oneoffavgdonatedlast24m  oneoffdonationsl24m  everpledgeflag\n",
       "prompttype                                                                    \n",
       "fixed      count               185.000000           185.000000      185.000000\n",
       "           mean                 19.988418             6.713514        0.059459\n",
       "           std                  13.608554             3.889658        0.237124\n",
       "           min                   0.000000             1.000000        0.000000\n",
       "           25%                  10.000000             4.000000        0.000000\n",
       "           50%                  18.333300             6.000000        0.000000\n",
       "           75%                  26.666600             9.000000        0.000000\n",
       "           max                  63.333300            17.000000        1.000000\n",
       "variable   count              1573.000000          1573.000000     1573.000000\n",
       "           mean                 18.310245             7.050858        0.062301\n",
       "           std                  13.995836             4.048838        0.241779\n",
       "           min                   0.000000             1.000000        0.000000\n",
       "           25%                   9.375000             4.000000        0.000000\n",
       "           50%                  15.000000             6.000000        0.000000\n",
       "           75%                  25.000000            10.000000        0.000000\n",
       "           max                 100.000000            19.000000        1.000000"
      ]
     },
     "execution_count": 21,
     "metadata": {},
     "output_type": "execute_result"
    }
   ],
   "source": [
    "cols=['oneoffavgdonatedlast24m','oneoffdonationsl24m','everpledgeflag']\n",
    "df[cols].groupby(by=df.prompttype).describe()"
   ]
  },
  {
   "cell_type": "code",
   "execution_count": 22,
   "metadata": {
    "collapsed": false
   },
   "outputs": [
    {
     "data": {
      "text/plain": [
       "array([<matplotlib.axes._subplots.AxesSubplot object at 0x000000000AC87710>,\n",
       "       <matplotlib.axes._subplots.AxesSubplot object at 0x000000000AD05E80>], dtype=object)"
      ]
     },
     "execution_count": 22,
     "metadata": {},
     "output_type": "execute_result"
    },
    {
     "data": {
      "image/png": "[encoded data removed]",
      "text/plain": [
       "<matplotlib.figure.Figure at 0xc729668>"
      ]
     },
     "metadata": {},
     "output_type": "display_data"
    }
   ],
   "source": [
    "## checking stability \n",
    "\n",
    "# df['oneofflast24m_bin'] = pd.cut(df.oneoffavgdonatedlast24m,10)\n",
    "\n",
    "# sns.factorplot(x='oneofflast24m_bin',data = df,row = 'prompttype',legend = True, kind='count', size =3, aspect = 3)\n",
    "\n",
    "# sns.countplot(y=\"oneofflast24m_bin\", hue=\"prompttype\", data=df, palette=\"Greens_d\",)\n",
    "# sns.jointplot(x=\"donatedamount\", y=\"oneoffavgdonatedlast24m\", data=df, kind=\"kde\",xlim=[0,50], ylim=[0,50]);\n",
    "# sns.distplot(df.oneoffavgdonatedlast24m, bins=20, kde=False, );\n",
    "\n",
    "df['oneoffavgdonatedlast24m'].hist(by=df['prompttype'], sharex = True)"
   ]
  },
  {
   "cell_type": "markdown",
   "metadata": {},
   "source": [
    "Previously donated amounts are comparable in the fixed and variable samples."
   ]
  },
  {
   "cell_type": "code",
   "execution_count": null,
   "metadata": {
    "collapsed": false
   },
   "outputs": [],
   "source": [
    "df.columns"
   ]
  },
  {
   "cell_type": "code",
   "execution_count": 23,
   "metadata": {
    "collapsed": false
   },
   "outputs": [],
   "source": [
    "# Creating a data frame of only the fixed sample.  \n",
    "dfx = df[df.prompttype=='fixed']\n",
    "dfv = df[df.prompttype=='variable']\n",
    "\n",
    "# and a few lists;\n",
    "campaign_features =['donatedamount','variableprompt1']\n",
    "oneHist_features = ['oneoffavgdonatedlast24m','oneoffdonationsl24m','oneoffltv',\n",
    "                    'lastoneoffamount', 'monthssincelastoneoff',] \n",
    "anyHist_features = ['alldonationsavgl24m', 'lifetimedonations',  'allltv', 'monthssincefirstdonation','monthssincelastdonation']\n",
    "pct_features =  ['fixed_pct', 'var_pct'] "
   ]
  },
  {
   "cell_type": "markdown",
   "metadata": {},
   "source": [
    "### Check for normal distributions"
   ]
  },
  {
   "cell_type": "code",
   "execution_count": 13,
   "metadata": {
    "collapsed": false
   },
   "outputs": [
    {
     "data": {
      "text/plain": [
       "1498    20.0000\n",
       "1499    20.0000\n",
       "1500    30.0000\n",
       "1501    30.0000\n",
       "1502    20.0000\n",
       "Name: donatedamount, dtype: object"
      ]
     },
     "execution_count": 13,
     "metadata": {},
     "output_type": "execute_result"
    }
   ],
   "source": [
    "dfx['donatedamount'].head()"
   ]
  },
  {
   "cell_type": "code",
   "execution_count": 55,
   "metadata": {
    "collapsed": false
   },
   "outputs": [
    {
     "data": {
      "text/plain": [
       "<function matplotlib.pyplot.show>"
      ]
     },
     "execution_count": 55,
     "metadata": {},
     "output_type": "execute_result"
    },
    {
     "data": {
      "image/png": "[encoded data removed]",
      "text/plain": [
       "<matplotlib.figure.Figure at 0xcc664a8>"
      ]
     },
     "metadata": {},
     "output_type": "display_data"
    }
   ],
   "source": [
    "# Donated amount \n",
    "label1 = ['fixed','variable','fixed mean','variable mean']\n",
    "ax = dfx['donatedamount'].plot(kind=\"density\", figsize = (10,3)) # fixed\n",
    "ax2= dfv['donatedamount'].plot(kind=\"density\", figsize = (10,3)) # variable\n",
    "plt.axvline(dfx['donatedamount'].mean(),     # Plot black line at fixed mean\n",
    "           linewidth=1.0,\n",
    "           color ='black')\n",
    "\n",
    "plt.axvline(dfv['donatedamount'].mean(),     # Plot red line for variable mean\n",
    "           linewidth=1.0,\n",
    "           color ='red', \n",
    "           linestyle = ':')\n",
    "\n",
    "ax.legend(labels=label1)\n",
    "\n",
    "plt.legend = True\n",
    "plt.show"
   ]
  },
  {
   "cell_type": "code",
   "execution_count": 64,
   "metadata": {
    "collapsed": false
   },
   "outputs": [
    {
     "data": {
      "text/plain": [
       "<matplotlib.legend.Legend at 0xce3f5f8>"
      ]
     },
     "execution_count": 64,
     "metadata": {},
     "output_type": "execute_result"
    },
    {
     "data": {
      "image/png": "[encoded data removed]",
      "text/plain": [
       "<matplotlib.figure.Figure at 0xcd47828>"
      ]
     },
     "metadata": {},
     "output_type": "display_data"
    }
   ],
   "source": [
    "# donated amount last 24 months \n",
    "label2  = ['Fixed','Variable','Mean - fixed', 'Mean - Variable']\n",
    "ax=dfx['oneoffavgdonatedlast24m'].plot(kind=\"density\", figsize = (10,3)) # fixed\n",
    "ax2=dfv['oneoffavgdonatedlast24m'].plot(kind=\"density\", figsize = (10,3)) # variable\n",
    "plt.axvline(dfx['oneoffavgdonatedlast24m'].mean(),     # Plot black line at fixed mean\n",
    "           linewidth=1.0,\n",
    "           color ='black')\n",
    "\n",
    "plt.axvline(dfv['oneoffavgdonatedlast24m'].mean(),     # Plot red line for variable mean\n",
    "           linewidth=1.0,\n",
    "           color ='red', \n",
    "           linestyle = ':')\n",
    "plt.title('Density plot of One-Off Average Donated Last 24m')\n",
    "ax.legend(labels=label2)\n"
   ]
  },
  {
   "cell_type": "markdown",
   "metadata": {},
   "source": [
    "Observations: \n",
    "\n",
    "None of the features are normally distributed, all are positively skewed because each of the features have a lower limit of 0 but an infinite upper limit.  This has the effect of pulling the mean towards the outliers and away from the median.  \n",
    "\n",
    "**Donated amount** has two spikes around the £20 and £50 price points.\n",
    "\n",
    "The Variable sample tended to have donated less on average than the fixed group."
   ]
  },
  {
   "cell_type": "markdown",
   "metadata": {},
   "source": [
    "### Correlation"
   ]
  },
  {
   "cell_type": "code",
   "execution_count": 52,
   "metadata": {
    "collapsed": false
   },
   "outputs": [
    {
     "data": {
      "text/plain": [
       "<matplotlib.axes._subplots.AxesSubplot at 0xc93e748>"
      ]
     },
     "execution_count": 52,
     "metadata": {},
     "output_type": "execute_result"
    },
    {
     "data": {
      "image/png": "[encoded data removed]",
      "text/plain": [
       "<matplotlib.figure.Figure at 0xc928978>"
      ]
     },
     "metadata": {},
     "output_type": "display_data"
    }
   ],
   "source": [
    "f,ax = plt.subplots(figsize=(12,8))\n",
    "sns.heatmap(dfx.corr(), annot=True, linewidths=.5, ax=ax)"
   ]
  },
  {
   "cell_type": "markdown",
   "metadata": {},
   "source": [
    "### Correlation observations: \n",
    "\n",
    "*Why isnt the correlation showing for fixed prompt?  *\n",
    "  \n",
    "cor(i,j) = cov(i,j)/[stdev(i)*stdev(j)]\n",
    "\n",
    "If the values of the ith or jth variable do not vary, then the respective standard deviation will be zero and so will the denominator of the fraction. Thus, the correlation will be NaN."
   ]
  },
  {
   "cell_type": "markdown",
   "metadata": {},
   "source": [
    "The variable prompt has a strong correlation with the amount donated (0.8), in the previous lapsed analysis the correlation was much lower 0.33 - perhaps suggesting that the prompt strategy is better suited to active supporters.  \n",
    "\n",
    "Of the features I could use to predict from, the following have the strongest correlation with donatedamount;  \n",
    "(previous lapsed analysis correlation shown in brackets)\n",
    "\n",
    "**alldonationsavgl24m**         0.82 (0.42)  \n",
    "**oneoffavgdonatedlast24**       0.8 (0.15)  \n",
    "**lastoneoffamount**            0.78 (0.46)  \n",
    "**allltv**                      0.43 (0.27)  \n",
    "**oneoffltv**                   0.43 (0.26)\n",
    "\n",
    "The **\"Months since\"** variables continue to show a very weak correlation (less than 0.1) with donatedamount. \n",
    "\n",
    "In summary, the new active data is showing the same pattern of correlation as shown in the lapsed analysis, but relationships are stronger, which suggests that the model should perform better.  \n",
    "\n",
    "nb anything that is a binary flag, isn't techinically a continous variable and therefore correlation isn't appropriate, see graphs below.  \n",
    "nb The value of gift aid is not a predictor as it is 25% of the donated amount (i'll remove it from model builds).  "
   ]
  },
  {
   "cell_type": "code",
   "execution_count": 45,
   "metadata": {
    "collapsed": true
   },
   "outputs": [],
   "source": [
    "dfx = dfx.drop('giftaid', axis =1)"
   ]
  },
  {
   "cell_type": "code",
   "execution_count": 51,
   "metadata": {
    "collapsed": false,
    "scrolled": true
   },
   "outputs": [
    {
     "data": {
      "text/plain": [
       "<matplotlib.axes._subplots.AxesSubplot at 0xcc32908>"
      ]
     },
     "execution_count": 51,
     "metadata": {},
     "output_type": "execute_result"
    },
    {
     "data": {
      "image/png": "[encoded data removed]",
      "text/plain": [
       "<matplotlib.figure.Figure at 0xd653080>"
      ]
     },
     "metadata": {},
     "output_type": "display_data"
    }
   ],
   "source": [
    "## checking for multicolinearity\n",
    "predictors  = ['donatedamount', 'alldonationsavgl24m','oneoffavgdonatedlast24m', 'lastoneoffamount', 'allltv', 'oneoffltv' ]\n",
    "\n",
    "sns.heatmap(dfx[predictors].corr(), annot = True)\n"
   ]
  },
  {
   "cell_type": "markdown",
   "metadata": {},
   "source": [
    "\"All LTV\" and \"one-off LTV\" are highly correlated (0.99). They are equally correlated with donated amount - but I will keep **allltv**, so that this model/ prompt strategy can apply to non-cash givers.  \n",
    "\n",
    "Alldonationsavgl24m, lastoneoffamount and oneoffavgdonatedlast24m are all highly correlated. Of the 3, **Alldonationsavgl24m** is best correlated with donatedamount and will be retained. Averaging a wider section of the supporters donations seems sensible too."
   ]
  },
  {
   "cell_type": "code",
   "execution_count": 54,
   "metadata": {
    "collapsed": true
   },
   "outputs": [],
   "source": [
    "predictors  = ['donatedamount', 'alldonationsavgl24m','allltv' ]"
   ]
  },
  {
   "cell_type": "code",
   "execution_count": 55,
   "metadata": {
    "collapsed": false,
    "scrolled": true
   },
   "outputs": [
    {
     "data": {
      "text/plain": [
       "<seaborn.axisgrid.PairGrid at 0x12a94320>"
      ]
     },
     "execution_count": 55,
     "metadata": {},
     "output_type": "execute_result"
    },
    {
     "data": {
      "image/png": "[encoded data removed]",
      "text/plain": [
       "<matplotlib.figure.Figure at 0x12a94a58>"
      ]
     },
     "metadata": {},
     "output_type": "display_data"
    }
   ],
   "source": [
    "# Scatter plots visualise the correlation values above...\n",
    "sns.pairplot(dfx, y_vars = predictors, x_vars =predictors ,hue='donatedamount')"
   ]
  },
  {
   "cell_type": "markdown",
   "metadata": {},
   "source": [
    "## Analysing categorical variables "
   ]
  },
  {
   "cell_type": "code",
   "execution_count": 68,
   "metadata": {
    "collapsed": false
   },
   "outputs": [
    {
     "data": {
      "image/png": "[encoded data removed]",
      "text/plain": [
       "<matplotlib.figure.Figure at 0x14fbef98>"
      ]
     },
     "metadata": {},
     "output_type": "display_data"
    },
    {
     "name": "stdout",
     "output_type": "stream",
     "text": [
      "116 of 185 gave giftaid\n"
     ]
    }
   ],
   "source": [
    "# Histogram of donated amount grouped by giftaid_flag \n",
    "plt.hist(dfx['donatedamount'][df.lastoneoffga==1], label = 'ga', color = 'green')\n",
    "plt.hist(dfx['donatedamount'][df.lastoneoffga==0], label ='no ga', alpha =0.6, color='blue') # alpha 0 = transparent, 1 =opaque.\n",
    "plt.legend()\n",
    "plt.show()\n",
    "print(dfx.lastoneoffga.sum(),\"of\", len(dfx),\"gave giftaid\")"
   ]
  },
  {
   "cell_type": "code",
   "execution_count": 65,
   "metadata": {
    "collapsed": false
   },
   "outputs": [
    {
     "data": {
      "text/plain": [
       "<matplotlib.axes._subplots.AxesSubplot at 0xcd47470>"
      ]
     },
     "execution_count": 65,
     "metadata": {},
     "output_type": "execute_result"
    },
    {
     "data": {
      "image/png": "[encoded data removed]",
      "text/plain": [
       "<matplotlib.figure.Figure at 0xb16b208>"
      ]
     },
     "metadata": {},
     "output_type": "display_data"
    }
   ],
   "source": [
    "pd.crosstab(dfx.donatedamount,\"\")\n",
    "dfx.donatedamount.hist()"
   ]
  },
  {
   "cell_type": "markdown",
   "metadata": {},
   "source": [
    "** Last donation was to an emergency ** "
   ]
  },
  {
   "cell_type": "code",
   "execution_count": 73,
   "metadata": {
    "collapsed": false
   },
   "outputs": [
    {
     "data": {
      "text/plain": [
       "lastdonationemer\n",
       "1    185\n",
       "Name: __dummy__, dtype: int64"
      ]
     },
     "execution_count": 73,
     "metadata": {},
     "output_type": "execute_result"
    }
   ],
   "source": [
    "# looking at how lastdonationemer (categorical variables) affects the distribution of donated amount\n",
    "# sns.factorplot(\n",
    "#     x='lastdonationemer',\n",
    "#     y='donatedamount',\n",
    "#     data=dfx, \n",
    "#     kind='box', \n",
    "#     size =5)\n",
    "\n",
    "# print('not emer', dfx['donatedamount'][(df.lastdonationemer ==0)].mean())\n",
    "# print('emer', dfx['donatedamount'][(df.lastdonationemer ==1)].mean())\n",
    "\n",
    "pd.crosstab(dfx.lastdonationemer,\"\")"
   ]
  },
  {
   "cell_type": "markdown",
   "metadata": {},
   "source": [
    "THOSE THAT DONATED, ALL LAST GAVE TO AN EMERGENCY APPEAL! (mainly LB restriction, liberia?)"
   ]
  },
  {
   "cell_type": "markdown",
   "metadata": {},
   "source": [
    " ** Supporter has previously had a pledge/ regular gift ** "
   ]
  },
  {
   "cell_type": "code",
   "execution_count": 79,
   "metadata": {
    "collapsed": false
   },
   "outputs": [
    {
     "name": "stdout",
     "output_type": "stream",
     "text": [
      "no pledge 19.721264367816094\n",
      "pledge 15.454545454545455\n",
      "11 of 185 have previously had a pledge\n"
     ]
    },
    {
     "data": {
      "image/png": "[encoded data removed]",
      "text/plain": [
       "<matplotlib.figure.Figure at 0x16ba49b0>"
      ]
     },
     "metadata": {},
     "output_type": "display_data"
    }
   ],
   "source": [
    "sns.factorplot(\n",
    "    x='everpledgeflag',\n",
    "    y='donatedamount',\n",
    "    data=dfx, \n",
    "    kind='box', \n",
    "    size =5)\n",
    "\n",
    "print('no pledge', dfx['donatedamount'][(df.everpledgeflag ==0)].mean())\n",
    "print('pledge', dfx['donatedamount'][(df.everpledgeflag ==1)].mean())\n",
    "\n",
    "print(dfx.everpledgeflag.sum(), \"of\", len(dfx),\"have previously had a pledge\")"
   ]
  },
  {
   "cell_type": "markdown",
   "metadata": {},
   "source": [
    "Very few supporters in the sample have previously given pledge.  \n",
    "The mean donated amount is higher where a supporter hasnt previously had a pledge, but this is likely to be due to the larger sample and greater likelihood of outliers."
   ]
  },
  {
   "cell_type": "code",
   "execution_count": 133,
   "metadata": {
    "collapsed": false
   },
   "outputs": [
    {
     "data": {
      "text/html": [
       "<table class=\"simpletable\">\n",
       "<caption>OLS Regression Results</caption>\n",
       "<tr>\n",
       "  <th>Dep. Variable:</th>            <td>y</td>        <th>  R-squared:         </th> <td>   0.007</td>\n",
       "</tr>\n",
       "<tr>\n",
       "  <th>Model:</th>                   <td>OLS</td>       <th>  Adj. R-squared:    </th> <td>   0.001</td>\n",
       "</tr>\n",
       "<tr>\n",
       "  <th>Method:</th>             <td>Least Squares</td>  <th>  F-statistic:       </th> <td>   1.253</td>\n",
       "</tr>\n",
       "<tr>\n",
       "  <th>Date:</th>             <td>Thu, 31 Aug 2017</td> <th>  Prob (F-statistic):</th>  <td> 0.264</td> \n",
       "</tr>\n",
       "<tr>\n",
       "  <th>Time:</th>                 <td>16:46:22</td>     <th>  Log-Likelihood:    </th> <td> -725.18</td>\n",
       "</tr>\n",
       "<tr>\n",
       "  <th>No. Observations:</th>      <td>   185</td>      <th>  AIC:               </th> <td>   1454.</td>\n",
       "</tr>\n",
       "<tr>\n",
       "  <th>Df Residuals:</th>          <td>   183</td>      <th>  BIC:               </th> <td>   1461.</td>\n",
       "</tr>\n",
       "<tr>\n",
       "  <th>Df Model:</th>              <td>     1</td>      <th>                     </th>     <td> </td>   \n",
       "</tr>\n",
       "<tr>\n",
       "  <th>Covariance Type:</th>      <td>nonrobust</td>    <th>                     </th>     <td> </td>   \n",
       "</tr>\n",
       "</table>\n",
       "<table class=\"simpletable\">\n",
       "<tr>\n",
       "      <td></td>         <th>coef</th>     <th>std err</th>      <th>t</th>      <th>P>|t|</th> <th>[95.0% Conf. Int.]</th> \n",
       "</tr>\n",
       "<tr>\n",
       "  <th>Intercept</th> <td>   19.7213</td> <td>    0.929</td> <td>   21.218</td> <td> 0.000</td> <td>   17.887    21.555</td>\n",
       "</tr>\n",
       "<tr>\n",
       "  <th>X</th>         <td>   -4.2667</td> <td>    3.812</td> <td>   -1.119</td> <td> 0.264</td> <td>  -11.787     3.254</td>\n",
       "</tr>\n",
       "</table>\n",
       "<table class=\"simpletable\">\n",
       "<tr>\n",
       "  <th>Omnibus:</th>       <td>62.565</td> <th>  Durbin-Watson:     </th> <td>   1.666</td>\n",
       "</tr>\n",
       "<tr>\n",
       "  <th>Prob(Omnibus):</th> <td> 0.000</td> <th>  Jarque-Bera (JB):  </th> <td> 159.643</td>\n",
       "</tr>\n",
       "<tr>\n",
       "  <th>Skew:</th>          <td> 1.463</td> <th>  Prob(JB):          </th> <td>2.16e-35</td>\n",
       "</tr>\n",
       "<tr>\n",
       "  <th>Kurtosis:</th>      <td> 6.485</td> <th>  Cond. No.          </th> <td>    4.24</td>\n",
       "</tr>\n",
       "</table>"
      ],
      "text/plain": [
       "<class 'statsmodels.iolib.summary.Summary'>\n",
       "\"\"\"\n",
       "                            OLS Regression Results                            \n",
       "==============================================================================\n",
       "Dep. Variable:                      y   R-squared:                       0.007\n",
       "Model:                            OLS   Adj. R-squared:                  0.001\n",
       "Method:                 Least Squares   F-statistic:                     1.253\n",
       "Date:                Thu, 31 Aug 2017   Prob (F-statistic):              0.264\n",
       "Time:                        16:46:22   Log-Likelihood:                -725.18\n",
       "No. Observations:                 185   AIC:                             1454.\n",
       "Df Residuals:                     183   BIC:                             1461.\n",
       "Df Model:                           1                                         \n",
       "Covariance Type:            nonrobust                                         \n",
       "==============================================================================\n",
       "                 coef    std err          t      P>|t|      [95.0% Conf. Int.]\n",
       "------------------------------------------------------------------------------\n",
       "Intercept     19.7213      0.929     21.218      0.000        17.887    21.555\n",
       "X             -4.2667      3.812     -1.119      0.264       -11.787     3.254\n",
       "==============================================================================\n",
       "Omnibus:                       62.565   Durbin-Watson:                   1.666\n",
       "Prob(Omnibus):                  0.000   Jarque-Bera (JB):              159.643\n",
       "Skew:                           1.463   Prob(JB):                     2.16e-35\n",
       "Kurtosis:                       6.485   Cond. No.                         4.24\n",
       "==============================================================================\n",
       "\n",
       "Warnings:\n",
       "[1] Standard Errors assume that the covariance matrix of the errors is correctly specified.\n",
       "\"\"\""
      ]
     },
     "execution_count": 133,
     "metadata": {},
     "output_type": "execute_result"
    }
   ],
   "source": [
    "# Running simple linear regression on everpledgeflag\n",
    "\n",
    "import statsmodels.formula.api as smf\n",
    "\n",
    "X = dfx[['everpledgeflag']]\n",
    "y = dfx['donatedamount']\n",
    "\n",
    "lm = smf.ols(formula='y ~ X', data=dfx).fit()\n",
    "lm.summary()"
   ]
  },
  {
   "cell_type": "markdown",
   "metadata": {},
   "source": [
    "The Ordinary Least Squares model shows that everpledgeflag is insignificant when predicting the donated amount, as shown by the p-value 0.264 - significance threshold is 0.05."
   ]
  },
  {
   "cell_type": "markdown",
   "metadata": {},
   "source": [
    "### Creating dummies"
   ]
  },
  {
   "cell_type": "code",
   "execution_count": 80,
   "metadata": {
    "collapsed": false
   },
   "outputs": [],
   "source": [
    "# Taking the group from mosaic as I think mosaic (group and type) would create too many features for the sample size.\n",
    "dfx['mosaicGroup'] = dfx['mosaic'].str[:1]"
   ]
  },
  {
   "cell_type": "code",
   "execution_count": 81,
   "metadata": {
    "collapsed": true
   },
   "outputs": [],
   "source": [
    "np.set_printoptions(suppress=True) # turning off scientific notation."
   ]
  },
  {
   "cell_type": "code",
   "execution_count": 82,
   "metadata": {
    "collapsed": false
   },
   "outputs": [],
   "source": [
    "from sklearn import linear_model, feature_selection\n",
    "lm =linear_model.LinearRegression()\n",
    "\n",
    "def get_linear_model_metrics(X, y, algo):\n",
    "    pvals = feature_selection.f_regression(X, y)[1]# get the pvalue of X given y. \n",
    "    algo.fit(X,y) # .fit() runs the linear regression function on X and y\n",
    "    residuals = (y-algo.predict(X)).values\n",
    "\n",
    "    print('P Values:',pvals) \n",
    "    print('Coefficients:', algo.coef_)\n",
    "    print('y-intercept:', algo.intercept_)\n",
    "    print('R-Squared:', algo.score(X,y))\n",
    "    plt.figure()\n",
    "    plt.hist(residuals, bins=np.ceil(np.sqrt(len(y))))\n",
    "    # keep the model\n",
    "    return algo"
   ]
  },
  {
   "cell_type": "code",
   "execution_count": 83,
   "metadata": {
    "collapsed": false
   },
   "outputs": [
    {
     "data": {
      "text/html": [
       "<div>\n",
       "<table border=\"1\" class=\"dataframe\">\n",
       "  <thead>\n",
       "    <tr style=\"text-align: right;\">\n",
       "      <th>mosaicGroup</th>\n",
       "      <th>A</th>\n",
       "      <th>B</th>\n",
       "      <th>C</th>\n",
       "      <th>D</th>\n",
       "      <th>E</th>\n",
       "      <th>F</th>\n",
       "      <th>G</th>\n",
       "      <th>H</th>\n",
       "      <th>I</th>\n",
       "      <th>J</th>\n",
       "      <th>K</th>\n",
       "      <th>L</th>\n",
       "      <th>M</th>\n",
       "      <th>N</th>\n",
       "      <th>O</th>\n",
       "    </tr>\n",
       "    <tr>\n",
       "      <th>row_0</th>\n",
       "      <th></th>\n",
       "      <th></th>\n",
       "      <th></th>\n",
       "      <th></th>\n",
       "      <th></th>\n",
       "      <th></th>\n",
       "      <th></th>\n",
       "      <th></th>\n",
       "      <th></th>\n",
       "      <th></th>\n",
       "      <th></th>\n",
       "      <th></th>\n",
       "      <th></th>\n",
       "      <th></th>\n",
       "      <th></th>\n",
       "    </tr>\n",
       "  </thead>\n",
       "  <tbody>\n",
       "    <tr>\n",
       "      <th></th>\n",
       "      <td>6</td>\n",
       "      <td>26</td>\n",
       "      <td>23</td>\n",
       "      <td>13</td>\n",
       "      <td>30</td>\n",
       "      <td>15</td>\n",
       "      <td>17</td>\n",
       "      <td>10</td>\n",
       "      <td>3</td>\n",
       "      <td>5</td>\n",
       "      <td>4</td>\n",
       "      <td>11</td>\n",
       "      <td>5</td>\n",
       "      <td>7</td>\n",
       "      <td>7</td>\n",
       "    </tr>\n",
       "  </tbody>\n",
       "</table>\n",
       "</div>"
      ],
      "text/plain": [
       "mosaicGroup  A   B   C   D   E   F   G   H  I  J  K   L  M  N  O\n",
       "row_0                                                           \n",
       "             6  26  23  13  30  15  17  10  3  5  4  11  5  7  7"
      ]
     },
     "execution_count": 83,
     "metadata": {},
     "output_type": "execute_result"
    }
   ],
   "source": [
    "#REFINING MOSAIC GROUPS\n",
    "pd.crosstab('',dfx.mosaicGroup)"
   ]
  },
  {
   "cell_type": "code",
   "execution_count": 107,
   "metadata": {
    "collapsed": false
   },
   "outputs": [
    {
     "name": "stdout",
     "output_type": "stream",
     "text": [
      "P Values: [ 0.31160129  0.0939479   0.6728686   0.16009274  0.94793717  0.98436341\n",
      "  0.43310957  0.19436197  0.22841457  0.7467047   0.38838989  0.5154367\n",
      "  0.37600412  0.14663377]\n",
      "Coefficients: [ -6.04700855  -4.29951691  -9.7008547  -11.19444444  -8.11111111\n",
      "  -8.36601307 -11.27777778 -17.44444444  -1.77777778 -10.27777778\n",
      " -11.41414141  -4.77777778 -12.34920635 -14.92063492]\n",
      "y-intercept: 27.7777777778\n",
      "R-Squared: 0.0922740375154\n"
     ]
    },
    {
     "name": "stderr",
     "output_type": "stream",
     "text": [
      "C:\\Users\\BeckyC\\AppData\\Local\\Continuum\\Anaconda3\\lib\\site-packages\\numpy\\lib\\function_base.py:564: VisibleDeprecationWarning: using a non-integer number instead of an integer will result in an error in the future\n",
      "  n = np.zeros(bins, ntype)\n",
      "C:\\Users\\BeckyC\\AppData\\Local\\Continuum\\Anaconda3\\lib\\site-packages\\numpy\\lib\\function_base.py:611: VisibleDeprecationWarning: using a non-integer number instead of an integer will result in an error in the future\n",
      "  n += np.bincount(indices, weights=tmp_w, minlength=bins).astype(ntype)\n"
     ]
    },
    {
     "name": "stdout",
     "output_type": "stream",
     "text": [
      "Index(['B', 'C', 'D', 'E', 'F', 'G', 'H', 'I', 'J', 'K', 'L', 'M', 'N', 'O'], dtype='object')\n"
     ]
    },
    {
     "data": {
      "image/png": "[encoded data removed]",
      "text/plain": [
       "<matplotlib.figure.Figure at 0x16af60b8>"
      ]
     },
     "metadata": {},
     "output_type": "display_data"
    }
   ],
   "source": [
    "#is it because there are 7 observations with null mosaic that the coefficients aren't equal?\n",
    "mosaic = pd.get_dummies(dfx.mosaicGroup)\n",
    "mosaic = mosaic.ix[:,1:15] # dropping dummy A \n",
    "\n",
    "y= dfx.donatedamount\n",
    "\n",
    "get_linear_model_metrics(mosaic, y, lm)  #mosaic[[1,4, 5,7,11]]\n",
    "print \n",
    "print (mosaic.columns)"
   ]
  },
  {
   "cell_type": "markdown",
   "metadata": {},
   "source": [
    "All P-values are greater than 0.05 and therefore not significant. Mosaic group \"C\" has the lowest p-value of 0.09, so I will test this in the model."
   ]
  },
  {
   "cell_type": "code",
   "execution_count": 110,
   "metadata": {
    "collapsed": false
   },
   "outputs": [],
   "source": [
    "## Appending Mosaic group C \n",
    "dfx = pd.concat([dfx, mosaic[[1]]], axis=1)"
   ]
  },
  {
   "cell_type": "code",
   "execution_count": 112,
   "metadata": {
    "collapsed": false
   },
   "outputs": [
    {
     "data": {
      "text/html": [
       "<div>\n",
       "<table border=\"1\" class=\"dataframe\">\n",
       "  <thead>\n",
       "    <tr style=\"text-align: right;\">\n",
       "      <th></th>\n",
       "      <th>activitycode</th>\n",
       "      <th>prompttype</th>\n",
       "      <th>mosaic</th>\n",
       "      <th>audienceprofile2016</th>\n",
       "      <th>donatedamount</th>\n",
       "      <th>fixedprompt</th>\n",
       "      <th>variableprompt1</th>\n",
       "      <th>lastdonationemer</th>\n",
       "      <th>oneoffavgdonatedlast24m</th>\n",
       "      <th>oneoffdonationsl24m</th>\n",
       "      <th>...</th>\n",
       "      <th>lastoneoffga</th>\n",
       "      <th>lifetimedonations</th>\n",
       "      <th>monthssincelastoneoff</th>\n",
       "      <th>monthssincefirstdonation</th>\n",
       "      <th>monthssincelastdonation</th>\n",
       "      <th>donationgiftaid_flag</th>\n",
       "      <th>fixed_pct</th>\n",
       "      <th>var_pct</th>\n",
       "      <th>mosaicGroup</th>\n",
       "      <th>C</th>\n",
       "    </tr>\n",
       "  </thead>\n",
       "  <tbody>\n",
       "    <tr>\n",
       "      <th>1498</th>\n",
       "      <td>KA64</td>\n",
       "      <td>fixed</td>\n",
       "      <td>B05</td>\n",
       "      <td>Wealthy Wellwishers</td>\n",
       "      <td>20.0</td>\n",
       "      <td>20.0</td>\n",
       "      <td>15.0</td>\n",
       "      <td>1</td>\n",
       "      <td>20.0000</td>\n",
       "      <td>5</td>\n",
       "      <td>...</td>\n",
       "      <td>0</td>\n",
       "      <td>20</td>\n",
       "      <td>8</td>\n",
       "      <td>129</td>\n",
       "      <td>8</td>\n",
       "      <td>0</td>\n",
       "      <td>1.0</td>\n",
       "      <td>1.333333</td>\n",
       "      <td>B</td>\n",
       "      <td>0</td>\n",
       "    </tr>\n",
       "    <tr>\n",
       "      <th>1499</th>\n",
       "      <td>KA64</td>\n",
       "      <td>fixed</td>\n",
       "      <td>E19</td>\n",
       "      <td>Not in target</td>\n",
       "      <td>20.0</td>\n",
       "      <td>20.0</td>\n",
       "      <td>25.0</td>\n",
       "      <td>1</td>\n",
       "      <td>22.3333</td>\n",
       "      <td>4</td>\n",
       "      <td>...</td>\n",
       "      <td>1</td>\n",
       "      <td>9</td>\n",
       "      <td>9</td>\n",
       "      <td>70</td>\n",
       "      <td>0</td>\n",
       "      <td>1</td>\n",
       "      <td>1.0</td>\n",
       "      <td>0.800000</td>\n",
       "      <td>E</td>\n",
       "      <td>0</td>\n",
       "    </tr>\n",
       "    <tr>\n",
       "      <th>1500</th>\n",
       "      <td>KA64</td>\n",
       "      <td>fixed</td>\n",
       "      <td>J42</td>\n",
       "      <td>Not in target</td>\n",
       "      <td>30.0</td>\n",
       "      <td>20.0</td>\n",
       "      <td>35.0</td>\n",
       "      <td>1</td>\n",
       "      <td>31.6666</td>\n",
       "      <td>7</td>\n",
       "      <td>...</td>\n",
       "      <td>0</td>\n",
       "      <td>34</td>\n",
       "      <td>6</td>\n",
       "      <td>220</td>\n",
       "      <td>6</td>\n",
       "      <td>0</td>\n",
       "      <td>1.5</td>\n",
       "      <td>0.857143</td>\n",
       "      <td>J</td>\n",
       "      <td>0</td>\n",
       "    </tr>\n",
       "    <tr>\n",
       "      <th>1501</th>\n",
       "      <td>KA64</td>\n",
       "      <td>fixed</td>\n",
       "      <td>C13</td>\n",
       "      <td>Rapid Responders</td>\n",
       "      <td>30.0</td>\n",
       "      <td>20.0</td>\n",
       "      <td>30.0</td>\n",
       "      <td>1</td>\n",
       "      <td>30.0000</td>\n",
       "      <td>8</td>\n",
       "      <td>...</td>\n",
       "      <td>1</td>\n",
       "      <td>103</td>\n",
       "      <td>2</td>\n",
       "      <td>223</td>\n",
       "      <td>2</td>\n",
       "      <td>1</td>\n",
       "      <td>1.5</td>\n",
       "      <td>1.000000</td>\n",
       "      <td>C</td>\n",
       "      <td>1</td>\n",
       "    </tr>\n",
       "    <tr>\n",
       "      <th>1502</th>\n",
       "      <td>KA64</td>\n",
       "      <td>fixed</td>\n",
       "      <td>C13</td>\n",
       "      <td>Rapid Responders</td>\n",
       "      <td>20.0</td>\n",
       "      <td>20.0</td>\n",
       "      <td>30.0</td>\n",
       "      <td>1</td>\n",
       "      <td>26.0000</td>\n",
       "      <td>6</td>\n",
       "      <td>...</td>\n",
       "      <td>1</td>\n",
       "      <td>33</td>\n",
       "      <td>2</td>\n",
       "      <td>149</td>\n",
       "      <td>2</td>\n",
       "      <td>1</td>\n",
       "      <td>1.0</td>\n",
       "      <td>0.666667</td>\n",
       "      <td>C</td>\n",
       "      <td>1</td>\n",
       "    </tr>\n",
       "  </tbody>\n",
       "</table>\n",
       "<p>5 rows × 25 columns</p>\n",
       "</div>"
      ],
      "text/plain": [
       "     activitycode prompttype mosaic  audienceprofile2016  donatedamount  \\\n",
       "1498         KA64      fixed    B05  Wealthy Wellwishers           20.0   \n",
       "1499         KA64      fixed    E19        Not in target           20.0   \n",
       "1500         KA64      fixed    J42        Not in target           30.0   \n",
       "1501         KA64      fixed    C13     Rapid Responders           30.0   \n",
       "1502         KA64      fixed    C13     Rapid Responders           20.0   \n",
       "\n",
       "      fixedprompt  variableprompt1  lastdonationemer  oneoffavgdonatedlast24m  \\\n",
       "1498         20.0             15.0                 1                  20.0000   \n",
       "1499         20.0             25.0                 1                  22.3333   \n",
       "1500         20.0             35.0                 1                  31.6666   \n",
       "1501         20.0             30.0                 1                  30.0000   \n",
       "1502         20.0             30.0                 1                  26.0000   \n",
       "\n",
       "      oneoffdonationsl24m ...  lastoneoffga  lifetimedonations  \\\n",
       "1498                    5 ...             0                 20   \n",
       "1499                    4 ...             1                  9   \n",
       "1500                    7 ...             0                 34   \n",
       "1501                    8 ...             1                103   \n",
       "1502                    6 ...             1                 33   \n",
       "\n",
       "      monthssincelastoneoff  monthssincefirstdonation  \\\n",
       "1498                      8                       129   \n",
       "1499                      9                        70   \n",
       "1500                      6                       220   \n",
       "1501                      2                       223   \n",
       "1502                      2                       149   \n",
       "\n",
       "      monthssincelastdonation  donationgiftaid_flag  fixed_pct   var_pct  \\\n",
       "1498                        8                     0        1.0  1.333333   \n",
       "1499                        0                     1        1.0  0.800000   \n",
       "1500                        6                     0        1.5  0.857143   \n",
       "1501                        2                     1        1.5  1.000000   \n",
       "1502                        2                     1        1.0  0.666667   \n",
       "\n",
       "      mosaicGroup  C  \n",
       "1498            B  0  \n",
       "1499            E  0  \n",
       "1500            J  0  \n",
       "1501            C  1  \n",
       "1502            C  1  \n",
       "\n",
       "[5 rows x 25 columns]"
      ]
     },
     "execution_count": 112,
     "metadata": {},
     "output_type": "execute_result"
    }
   ],
   "source": [
    "dfx.head()"
   ]
  },
  {
   "cell_type": "code",
   "execution_count": 113,
   "metadata": {
    "collapsed": false
   },
   "outputs": [
    {
     "data": {
      "text/html": [
       "<div>\n",
       "<table border=\"1\" class=\"dataframe\">\n",
       "  <thead>\n",
       "    <tr style=\"text-align: right;\">\n",
       "      <th></th>\n",
       "      <th>Mindful Mums</th>\n",
       "      <th>Not in target</th>\n",
       "      <th>Rapid Responders</th>\n",
       "      <th>Upwardly Urban</th>\n",
       "      <th>Wealthy Wellwishers</th>\n",
       "    </tr>\n",
       "  </thead>\n",
       "  <tbody>\n",
       "    <tr>\n",
       "      <th>1498</th>\n",
       "      <td>0</td>\n",
       "      <td>0</td>\n",
       "      <td>0</td>\n",
       "      <td>0</td>\n",
       "      <td>1</td>\n",
       "    </tr>\n",
       "    <tr>\n",
       "      <th>1499</th>\n",
       "      <td>0</td>\n",
       "      <td>1</td>\n",
       "      <td>0</td>\n",
       "      <td>0</td>\n",
       "      <td>0</td>\n",
       "    </tr>\n",
       "    <tr>\n",
       "      <th>1500</th>\n",
       "      <td>0</td>\n",
       "      <td>1</td>\n",
       "      <td>0</td>\n",
       "      <td>0</td>\n",
       "      <td>0</td>\n",
       "    </tr>\n",
       "    <tr>\n",
       "      <th>1501</th>\n",
       "      <td>0</td>\n",
       "      <td>0</td>\n",
       "      <td>1</td>\n",
       "      <td>0</td>\n",
       "      <td>0</td>\n",
       "    </tr>\n",
       "    <tr>\n",
       "      <th>1502</th>\n",
       "      <td>0</td>\n",
       "      <td>0</td>\n",
       "      <td>1</td>\n",
       "      <td>0</td>\n",
       "      <td>0</td>\n",
       "    </tr>\n",
       "  </tbody>\n",
       "</table>\n",
       "</div>"
      ],
      "text/plain": [
       "      Mindful Mums  Not in target  Rapid Responders  Upwardly Urban  \\\n",
       "1498             0              0                 0               0   \n",
       "1499             0              1                 0               0   \n",
       "1500             0              1                 0               0   \n",
       "1501             0              0                 1               0   \n",
       "1502             0              0                 1               0   \n",
       "\n",
       "      Wealthy Wellwishers  \n",
       "1498                    1  \n",
       "1499                    0  \n",
       "1500                    0  \n",
       "1501                    0  \n",
       "1502                    0  "
      ]
     },
     "execution_count": 113,
     "metadata": {},
     "output_type": "execute_result"
    }
   ],
   "source": [
    "#REFINING AUDIENCE PROFILES \n",
    "audience = pd.get_dummies(dfx.audienceprofile2016) \n",
    "audience.head()"
   ]
  },
  {
   "cell_type": "code",
   "execution_count": 114,
   "metadata": {
    "collapsed": false
   },
   "outputs": [
    {
     "data": {
      "text/plain": [
       "audienceprofile2016\n",
       "Mindful Mums            4\n",
       "Not in target          70\n",
       "Rapid Responders       45\n",
       "Upwardly Urban         28\n",
       "Wealthy Wellwishers    35\n",
       "Name: __dummy__, dtype: int64"
      ]
     },
     "execution_count": 114,
     "metadata": {},
     "output_type": "execute_result"
    }
   ],
   "source": [
    "pd.crosstab(dfx.audienceprofile2016,'')"
   ]
  },
  {
   "cell_type": "code",
   "execution_count": 116,
   "metadata": {
    "collapsed": false
   },
   "outputs": [
    {
     "name": "stdout",
     "output_type": "stream",
     "text": [
      "P Values: [ 0.25193568  0.11053077  0.54917526  0.0659578   0.22990717]\n",
      "Coefficients: [-10.83333333  -5.71190476  -4.82222222   0.05952381  -1.61904762]\n",
      "y-intercept: 23.3333333333\n",
      "R-Squared: 0.0406853784069\n"
     ]
    },
    {
     "name": "stderr",
     "output_type": "stream",
     "text": [
      "C:\\Users\\BeckyC\\AppData\\Local\\Continuum\\Anaconda3\\lib\\site-packages\\numpy\\lib\\function_base.py:564: VisibleDeprecationWarning: using a non-integer number instead of an integer will result in an error in the future\n",
      "  n = np.zeros(bins, ntype)\n",
      "C:\\Users\\BeckyC\\AppData\\Local\\Continuum\\Anaconda3\\lib\\site-packages\\numpy\\lib\\function_base.py:611: VisibleDeprecationWarning: using a non-integer number instead of an integer will result in an error in the future\n",
      "  n += np.bincount(indices, weights=tmp_w, minlength=bins).astype(ntype)\n"
     ]
    },
    {
     "data": {
      "text/plain": [
       "LinearRegression(copy_X=True, fit_intercept=True, n_jobs=1, normalize=False)"
      ]
     },
     "execution_count": 116,
     "metadata": {},
     "output_type": "execute_result"
    },
    {
     "data": {
      "image/png": "[encoded data removed]",
      "text/plain": [
       "<matplotlib.figure.Figure at 0x14891828>"
      ]
     },
     "metadata": {},
     "output_type": "display_data"
    }
   ],
   "source": [
    "get_linear_model_metrics(audience[[0,1,2,3,4]], y, lm)"
   ]
  },
  {
   "cell_type": "markdown",
   "metadata": {},
   "source": [
    "Upwardly urban has a p-value of 0.06, which is the only audience category close to the 0.05 threshold.  The coefficient (in relation to the other audience profiles doesn't seem very help though as it hovers close to zero;  0.05952381."
   ]
  },
  {
   "cell_type": "code",
   "execution_count": 120,
   "metadata": {
    "collapsed": false
   },
   "outputs": [
    {
     "name": "stdout",
     "output_type": "stream",
     "text": [
      "P Values: [ 0.0659578]\n",
      "Coefficients: [ 4.62534122]\n",
      "y-intercept: 18.7675159236\n",
      "R-Squared: 0.0183545537229\n"
     ]
    },
    {
     "name": "stderr",
     "output_type": "stream",
     "text": [
      "C:\\Users\\BeckyC\\AppData\\Local\\Continuum\\Anaconda3\\lib\\site-packages\\numpy\\lib\\function_base.py:564: VisibleDeprecationWarning: using a non-integer number instead of an integer will result in an error in the future\n",
      "  n = np.zeros(bins, ntype)\n",
      "C:\\Users\\BeckyC\\AppData\\Local\\Continuum\\Anaconda3\\lib\\site-packages\\numpy\\lib\\function_base.py:611: VisibleDeprecationWarning: using a non-integer number instead of an integer will result in an error in the future\n",
      "  n += np.bincount(indices, weights=tmp_w, minlength=bins).astype(ntype)\n"
     ]
    },
    {
     "data": {
      "text/plain": [
       "<function print>"
      ]
     },
     "execution_count": 120,
     "metadata": {},
     "output_type": "execute_result"
    },
    {
     "data": {
      "image/png": "[encoded data removed]",
      "text/plain": [
       "<matplotlib.figure.Figure at 0x14ecb588>"
      ]
     },
     "metadata": {},
     "output_type": "display_data"
    }
   ],
   "source": [
    "# droped audience dummies where the p value is >0.05\n",
    "get_linear_model_metrics(audience[[3]], y, lm)\n",
    "print "
   ]
  },
  {
   "cell_type": "code",
   "execution_count": 127,
   "metadata": {
    "collapsed": false
   },
   "outputs": [
    {
     "data": {
      "text/html": [
       "<div>\n",
       "<table border=\"1\" class=\"dataframe\">\n",
       "  <thead>\n",
       "    <tr style=\"text-align: right;\">\n",
       "      <th></th>\n",
       "      <th>Upwardly Urban</th>\n",
       "    </tr>\n",
       "  </thead>\n",
       "  <tbody>\n",
       "    <tr>\n",
       "      <th>1498</th>\n",
       "      <td>0</td>\n",
       "    </tr>\n",
       "  </tbody>\n",
       "</table>\n",
       "</div>"
      ],
      "text/plain": [
       "      Upwardly Urban\n",
       "1498               0"
      ]
     },
     "execution_count": 127,
     "metadata": {},
     "output_type": "execute_result"
    }
   ],
   "source": [
    "audience[[3]].head(1)"
   ]
  },
  {
   "cell_type": "code",
   "execution_count": 124,
   "metadata": {
    "collapsed": false
   },
   "outputs": [],
   "source": [
    "## appending significant audiences to the main df\n",
    "dfx = pd.concat([dfx, audience[[3]]], axis=1)"
   ]
  },
  {
   "cell_type": "markdown",
   "metadata": {},
   "source": [
    "The following charts confirm the coefficients:"
   ]
  },
  {
   "cell_type": "code",
   "execution_count": 126,
   "metadata": {
    "collapsed": false
   },
   "outputs": [
    {
     "data": {
      "image/png": "[encoded data removed]",
      "text/plain": [
       "<matplotlib.figure.Figure at 0x14d54940>"
      ]
     },
     "metadata": {},
     "output_type": "display_data"
    },
    {
     "data": {
      "image/png": "[encoded data removed]",
      "text/plain": [
       "<matplotlib.figure.Figure at 0x168a1d30>"
      ]
     },
     "metadata": {},
     "output_type": "display_data"
    }
   ],
   "source": [
    "# plot mean donated amount by each dummy category to understand it's effect\n",
    "dummies = ['C', 'Upwardly Urban']\n",
    "\n",
    "for c in dummies:\n",
    "    sns.factorplot(\n",
    "        x=c,\n",
    "        y='donatedamount',\n",
    "        data=dfx, \n",
    "        kind='bar', \n",
    "        size =2)"
   ]
  },
  {
   "cell_type": "code",
   "execution_count": 125,
   "metadata": {
    "collapsed": false
   },
   "outputs": [
    {
     "data": {
      "text/plain": [
       "Index(['activitycode', 'prompttype', 'mosaic', 'audienceprofile2016',\n",
       "       'donatedamount', 'fixedprompt', 'variableprompt1', 'lastdonationemer',\n",
       "       'oneoffavgdonatedlast24m', 'oneoffdonationsl24m', 'everpledgeflag',\n",
       "       'alldonationsavgl24m', 'oneoffltv', 'allltv', 'lastoneoffamount',\n",
       "       'lastoneoffga', 'lifetimedonations', 'monthssincelastoneoff',\n",
       "       'monthssincefirstdonation', 'monthssincelastdonation',\n",
       "       'donationgiftaid_flag', 'fixed_pct', 'var_pct', 'mosaicGroup', 'C',\n",
       "       'Upwardly Urban'],\n",
       "      dtype='object')"
      ]
     },
     "execution_count": 125,
     "metadata": {},
     "output_type": "execute_result"
    }
   ],
   "source": [
    "dfx.columns"
   ]
  },
  {
   "cell_type": "code",
   "execution_count": 137,
   "metadata": {
    "collapsed": false
   },
   "outputs": [],
   "source": [
    "##saving to csv a clean file that can be used for model builds.\n",
    "cols_to_keep = ['donatedamount','alldonationsavgl24m', 'allltv',\n",
    "                'mosaicGroup', 'C','audienceprofile2016', 'Upwardly Urban']\n",
    "\n",
    "df_clean= dfx[cols_to_keep]\n"
   ]
  },
  {
   "cell_type": "code",
   "execution_count": 138,
   "metadata": {
    "collapsed": false
   },
   "outputs": [],
   "source": [
    "df_clean.to_csv('//unicef-data/Data/Data/Fund/Public/Internal insight/Analysis/2017 Projects/K037 Cash Prompt Optimisation/3 Working files/K037_fixed_cash_model_inputv2.csv'\n",
    "                , sep=',')"
   ]
  },
  {
   "cell_type": "code",
   "execution_count": 12,
   "metadata": {
    "collapsed": false
   },
   "outputs": [],
   "source": [
    "#HAVEN'T RAN THIS FOR VERSION 2 \n",
    "# Updated 19/05/2017: commented out dummy variables as these aren't required for decision trees/ random forest.\n",
    "## Saving a csv a copy of the cleaned file but including outliers for the random forest training.\n",
    "df['mosaicGroup'] = df['mosaic'].str[:1]\n",
    "# mosaic = pd.get_dummies(df.mosaicGroup, prefix = 'mosaic')\n",
    "# mosaic.columns\n",
    "df_cols =['donatedamount', 'audienceprofile2016', 'fixedprompt','oneoffavgdonatedlast24m','oneoffdonationsl24m', \n",
    "             'everpledgeflag','lastdonationemer', 'alldonationsavgl24m', 'oneoffltv', 'allltv', 'lastoneoffamount','lastoneoffga', \n",
    "             'lifetimedonations', 'monthssincelastoneoff','monthssincefirstdonation', 'monthssincelastdonation',\n",
    "             'outlier_flag','mosaicGroup']\n",
    "\n",
    "df_final = df[df_cols]#.join(mosaic[['mosaic_A', 'mosaic_B', 'mosaic_C', 'mosaic_D', 'mosaic_E', 'mosaic_F',\n",
    "#                                     'mosaic_G', 'mosaic_H','mosaic_I', 'mosaic_J', 'mosaic_K', 'mosaic_L',\n",
    "#                                     'mosaic_M', 'mosaic_N']]) # left out 'mosaic_O'\n",
    "\n",
    "df_final.to_csv('//unicef-data/Data/Data/Fund/Public/Internal insight/Analysis/2017 Projects/K037 Cash Prompt Optimisation/3 Working files/K037_fixed_cash_model_input_nodummiesv2.csv'\n",
    "                , sep=',')"
   ]
  },
  {
   "cell_type": "code",
   "execution_count": 13,
   "metadata": {
    "collapsed": false
   },
   "outputs": [
    {
     "data": {
      "text/html": [
       "<div>\n",
       "<table border=\"1\" class=\"dataframe\">\n",
       "  <thead>\n",
       "    <tr style=\"text-align: right;\">\n",
       "      <th></th>\n",
       "      <th>0</th>\n",
       "      <th>1</th>\n",
       "      <th>2</th>\n",
       "      <th>3</th>\n",
       "      <th>4</th>\n",
       "    </tr>\n",
       "  </thead>\n",
       "  <tbody>\n",
       "    <tr>\n",
       "      <th>donatedamount</th>\n",
       "      <td>10</td>\n",
       "      <td>63</td>\n",
       "      <td>10</td>\n",
       "      <td>20</td>\n",
       "      <td>50</td>\n",
       "    </tr>\n",
       "    <tr>\n",
       "      <th>audienceprofile2016</th>\n",
       "      <td>Upwardly Urban</td>\n",
       "      <td>Not in target</td>\n",
       "      <td>Not in target</td>\n",
       "      <td>Rapid Responders</td>\n",
       "      <td>Unclassified</td>\n",
       "    </tr>\n",
       "    <tr>\n",
       "      <th>fixedprompt</th>\n",
       "      <td>20</td>\n",
       "      <td>20</td>\n",
       "      <td>20</td>\n",
       "      <td>20</td>\n",
       "      <td>20</td>\n",
       "    </tr>\n",
       "    <tr>\n",
       "      <th>oneoffavgdonatedlast24m</th>\n",
       "      <td>8.3333</td>\n",
       "      <td>25</td>\n",
       "      <td>0</td>\n",
       "      <td>30</td>\n",
       "      <td>30</td>\n",
       "    </tr>\n",
       "    <tr>\n",
       "      <th>oneoffdonationsl24m</th>\n",
       "      <td>4</td>\n",
       "      <td>3</td>\n",
       "      <td>1</td>\n",
       "      <td>2</td>\n",
       "      <td>4</td>\n",
       "    </tr>\n",
       "    <tr>\n",
       "      <th>everpledgeflag</th>\n",
       "      <td>0</td>\n",
       "      <td>0</td>\n",
       "      <td>1</td>\n",
       "      <td>0</td>\n",
       "      <td>0</td>\n",
       "    </tr>\n",
       "    <tr>\n",
       "      <th>lastdonationemer</th>\n",
       "      <td>1</td>\n",
       "      <td>0</td>\n",
       "      <td>0</td>\n",
       "      <td>1</td>\n",
       "      <td>1</td>\n",
       "    </tr>\n",
       "    <tr>\n",
       "      <th>alldonationsavgl24m</th>\n",
       "      <td>8.75</td>\n",
       "      <td>26.6666</td>\n",
       "      <td>10.2941</td>\n",
       "      <td>25</td>\n",
       "      <td>35</td>\n",
       "    </tr>\n",
       "    <tr>\n",
       "      <th>oneoffltv</th>\n",
       "      <td>64</td>\n",
       "      <td>700</td>\n",
       "      <td>15</td>\n",
       "      <td>517</td>\n",
       "      <td>245</td>\n",
       "    </tr>\n",
       "    <tr>\n",
       "      <th>allltv</th>\n",
       "      <td>64</td>\n",
       "      <td>700</td>\n",
       "      <td>215</td>\n",
       "      <td>517</td>\n",
       "      <td>245</td>\n",
       "    </tr>\n",
       "    <tr>\n",
       "      <th>lastoneoffamount</th>\n",
       "      <td>10</td>\n",
       "      <td>30</td>\n",
       "      <td>15</td>\n",
       "      <td>20</td>\n",
       "      <td>50</td>\n",
       "    </tr>\n",
       "    <tr>\n",
       "      <th>lastoneoffga</th>\n",
       "      <td>1</td>\n",
       "      <td>0</td>\n",
       "      <td>1</td>\n",
       "      <td>0</td>\n",
       "      <td>1</td>\n",
       "    </tr>\n",
       "    <tr>\n",
       "      <th>lifetimedonations</th>\n",
       "      <td>6</td>\n",
       "      <td>31</td>\n",
       "      <td>21</td>\n",
       "      <td>21</td>\n",
       "      <td>14</td>\n",
       "    </tr>\n",
       "    <tr>\n",
       "      <th>monthssincelastoneoff</th>\n",
       "      <td>66</td>\n",
       "      <td>66</td>\n",
       "      <td>21</td>\n",
       "      <td>14</td>\n",
       "      <td>14</td>\n",
       "    </tr>\n",
       "    <tr>\n",
       "      <th>monthssincefirstdonation</th>\n",
       "      <td>128</td>\n",
       "      <td>218</td>\n",
       "      <td>36</td>\n",
       "      <td>202</td>\n",
       "      <td>108</td>\n",
       "    </tr>\n",
       "    <tr>\n",
       "      <th>monthssincelastdonation</th>\n",
       "      <td>66</td>\n",
       "      <td>66</td>\n",
       "      <td>17</td>\n",
       "      <td>14</td>\n",
       "      <td>14</td>\n",
       "    </tr>\n",
       "    <tr>\n",
       "      <th>outlier_flag</th>\n",
       "      <td>0</td>\n",
       "      <td>0</td>\n",
       "      <td>0</td>\n",
       "      <td>0</td>\n",
       "      <td>0</td>\n",
       "    </tr>\n",
       "    <tr>\n",
       "      <th>mosaicGroup</th>\n",
       "      <td>B</td>\n",
       "      <td>H</td>\n",
       "      <td>L</td>\n",
       "      <td>C</td>\n",
       "      <td>None</td>\n",
       "    </tr>\n",
       "  </tbody>\n",
       "</table>\n",
       "</div>"
      ],
      "text/plain": [
       "                                       0              1              2  \\\n",
       "donatedamount                         10             63             10   \n",
       "audienceprofile2016       Upwardly Urban  Not in target  Not in target   \n",
       "fixedprompt                           20             20             20   \n",
       "oneoffavgdonatedlast24m           8.3333             25              0   \n",
       "oneoffdonationsl24m                    4              3              1   \n",
       "everpledgeflag                         0              0              1   \n",
       "lastdonationemer                       1              0              0   \n",
       "alldonationsavgl24m                 8.75        26.6666        10.2941   \n",
       "oneoffltv                             64            700             15   \n",
       "allltv                                64            700            215   \n",
       "lastoneoffamount                      10             30             15   \n",
       "lastoneoffga                           1              0              1   \n",
       "lifetimedonations                      6             31             21   \n",
       "monthssincelastoneoff                 66             66             21   \n",
       "monthssincefirstdonation             128            218             36   \n",
       "monthssincelastdonation               66             66             17   \n",
       "outlier_flag                           0              0              0   \n",
       "mosaicGroup                            B              H              L   \n",
       "\n",
       "                                         3             4  \n",
       "donatedamount                           20            50  \n",
       "audienceprofile2016       Rapid Responders  Unclassified  \n",
       "fixedprompt                             20            20  \n",
       "oneoffavgdonatedlast24m                 30            30  \n",
       "oneoffdonationsl24m                      2             4  \n",
       "everpledgeflag                           0             0  \n",
       "lastdonationemer                         1             1  \n",
       "alldonationsavgl24m                     25            35  \n",
       "oneoffltv                              517           245  \n",
       "allltv                                 517           245  \n",
       "lastoneoffamount                        20            50  \n",
       "lastoneoffga                             0             1  \n",
       "lifetimedonations                       21            14  \n",
       "monthssincelastoneoff                   14            14  \n",
       "monthssincefirstdonation               202           108  \n",
       "monthssincelastdonation                 14            14  \n",
       "outlier_flag                             0             0  \n",
       "mosaicGroup                              C          None  "
      ]
     },
     "execution_count": 13,
     "metadata": {},
     "output_type": "execute_result"
    }
   ],
   "source": [
    "df_final.head().T"
   ]
  }
 ],
 "metadata": {
  "kernelspec": {
   "display_name": "Python 3",
   "language": "python",
   "name": "python3"
  },
  "language_info": {
   "codemirror_mode": {
    "name": "ipython",
    "version": 3
   },
   "file_extension": ".py",
   "mimetype": "text/x-python",
   "name": "python",
   "nbconvert_exporter": "python",
   "pygments_lexer": "ipython3",
   "version": "3.6.0"
  }
 },
 "nbformat": 4,
 "nbformat_minor": 2
}
