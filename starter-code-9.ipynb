{
 "cells": [
  {
   "cell_type": "markdown",
   "metadata": {},
   "source": [
    "### Guided Practice: Logit Function and Odds"
   ]
  },
  {
   "cell_type": "code",
   "execution_count": 11,
   "metadata": {
    "collapsed": false
   },
   "outputs": [
    {
     "name": "stdout",
     "output_type": "stream",
     "text": [
      "0.833333333333\n",
      "0.952380952381\n",
      "0.52380952381\n",
      "0.642857142857\n",
      "0.615384615385\n"
     ]
    }
   ],
   "source": [
    "import numpy as np \n",
    "# calc log odds \n",
    "def logit_func(odds):\n",
    "    # uses a float (odds) and returns back the log odds (logit)\n",
    "    return np.log(odds) #None\n",
    "\n",
    "\n",
    "def sigmoid_func(logit):\n",
    "    # uses a float (logit) and returns back the probability\n",
    "    return 1./(1+np.exp(-logit))\n",
    "\n",
    "odds_set = [\n",
    "    5./1,\n",
    "    20./1,\n",
    "    1.1/1,\n",
    "    1.8/1,\n",
    "    1.6/1\n",
    "]\n",
    "for odds in odds_set: \n",
    "    print(sigmoid_func(logit_func(odds)))"
   ]
  },
  {
   "cell_type": "code",
   "execution_count": 1,
   "metadata": {
    "collapsed": false
   },
   "outputs": [],
   "source": [
    "import pandas as pd\n",
    "from sklearn.linear_model import LogisticRegression\n",
    "import seaborn as sns \n",
    "import matplotlib.pyplot as plt\n",
    "%matplotlib inline "
   ]
  },
  {
   "cell_type": "code",
   "execution_count": 17,
   "metadata": {
    "collapsed": false
   },
   "outputs": [
    {
     "data": {
      "text/plain": [
       "[<matplotlib.lines.Line2D at 0xc4aa9b0>]"
      ]
     },
     "execution_count": 17,
     "metadata": {},
     "output_type": "execute_result"
    },
    {
     "data": {
      "image/png": "[encoded data removed]",
      "text/plain": [
       "<matplotlib.figure.Figure at 0xc438438>"
      ]
     },
     "metadata": {},
     "output_type": "display_data"
    }
   ],
   "source": [
    "x=pd.Series(list(range(-10,10)))\n",
    "y=x.apply(sigmoid_func)\n",
    "plt.plot(x,y)"
   ]
  },
  {
   "cell_type": "code",
   "execution_count": 4,
   "metadata": {
    "collapsed": false
   },
   "outputs": [],
   "source": [
    "lm = LogisticRegression() ## *** previously used linear regression as the estimator *** \n",
    "\n",
    "df = pd.read_csv('C:/Users/BeckyC/Desktop/Data Science - GA files/collegeadmissions.csv')"
   ]
  },
  {
   "cell_type": "code",
   "execution_count": 5,
   "metadata": {
    "collapsed": false
   },
   "outputs": [
    {
     "data": {
      "text/html": [
       "<div>\n",
       "<table border=\"1\" class=\"dataframe\">\n",
       "  <thead>\n",
       "    <tr style=\"text-align: right;\">\n",
       "      <th></th>\n",
       "      <th>admit</th>\n",
       "      <th>gre</th>\n",
       "      <th>gpa</th>\n",
       "      <th>rank</th>\n",
       "    </tr>\n",
       "  </thead>\n",
       "  <tbody>\n",
       "    <tr>\n",
       "      <th>0</th>\n",
       "      <td>0</td>\n",
       "      <td>380</td>\n",
       "      <td>3.61</td>\n",
       "      <td>3</td>\n",
       "    </tr>\n",
       "    <tr>\n",
       "      <th>1</th>\n",
       "      <td>1</td>\n",
       "      <td>660</td>\n",
       "      <td>3.67</td>\n",
       "      <td>3</td>\n",
       "    </tr>\n",
       "    <tr>\n",
       "      <th>2</th>\n",
       "      <td>1</td>\n",
       "      <td>800</td>\n",
       "      <td>4.00</td>\n",
       "      <td>1</td>\n",
       "    </tr>\n",
       "    <tr>\n",
       "      <th>3</th>\n",
       "      <td>1</td>\n",
       "      <td>640</td>\n",
       "      <td>3.19</td>\n",
       "      <td>4</td>\n",
       "    </tr>\n",
       "    <tr>\n",
       "      <th>4</th>\n",
       "      <td>0</td>\n",
       "      <td>520</td>\n",
       "      <td>2.93</td>\n",
       "      <td>4</td>\n",
       "    </tr>\n",
       "  </tbody>\n",
       "</table>\n",
       "</div>"
      ],
      "text/plain": [
       "   admit  gre   gpa  rank\n",
       "0      0  380  3.61     3\n",
       "1      1  660  3.67     3\n",
       "2      1  800  4.00     1\n",
       "3      1  640  3.19     4\n",
       "4      0  520  2.93     4"
      ]
     },
     "execution_count": 5,
     "metadata": {},
     "output_type": "execute_result"
    }
   ],
   "source": [
    "df.head()"
   ]
  },
  {
   "cell_type": "code",
   "execution_count": 6,
   "metadata": {
    "collapsed": false
   },
   "outputs": [],
   "source": [
    "df = df.join(pd.get_dummies(df['rank']))"
   ]
  },
  {
   "cell_type": "code",
   "execution_count": 7,
   "metadata": {
    "collapsed": false
   },
   "outputs": [
    {
     "data": {
      "text/html": [
       "<div>\n",
       "<table border=\"1\" class=\"dataframe\">\n",
       "  <thead>\n",
       "    <tr style=\"text-align: right;\">\n",
       "      <th></th>\n",
       "      <th>admit</th>\n",
       "      <th>gre</th>\n",
       "      <th>gpa</th>\n",
       "      <th>rank</th>\n",
       "      <th>1</th>\n",
       "      <th>2</th>\n",
       "      <th>3</th>\n",
       "      <th>4</th>\n",
       "    </tr>\n",
       "  </thead>\n",
       "  <tbody>\n",
       "    <tr>\n",
       "      <th>0</th>\n",
       "      <td>0</td>\n",
       "      <td>380</td>\n",
       "      <td>3.61</td>\n",
       "      <td>3</td>\n",
       "      <td>0</td>\n",
       "      <td>0</td>\n",
       "      <td>1</td>\n",
       "      <td>0</td>\n",
       "    </tr>\n",
       "    <tr>\n",
       "      <th>1</th>\n",
       "      <td>1</td>\n",
       "      <td>660</td>\n",
       "      <td>3.67</td>\n",
       "      <td>3</td>\n",
       "      <td>0</td>\n",
       "      <td>0</td>\n",
       "      <td>1</td>\n",
       "      <td>0</td>\n",
       "    </tr>\n",
       "    <tr>\n",
       "      <th>2</th>\n",
       "      <td>1</td>\n",
       "      <td>800</td>\n",
       "      <td>4.00</td>\n",
       "      <td>1</td>\n",
       "      <td>1</td>\n",
       "      <td>0</td>\n",
       "      <td>0</td>\n",
       "      <td>0</td>\n",
       "    </tr>\n",
       "    <tr>\n",
       "      <th>3</th>\n",
       "      <td>1</td>\n",
       "      <td>640</td>\n",
       "      <td>3.19</td>\n",
       "      <td>4</td>\n",
       "      <td>0</td>\n",
       "      <td>0</td>\n",
       "      <td>0</td>\n",
       "      <td>1</td>\n",
       "    </tr>\n",
       "    <tr>\n",
       "      <th>4</th>\n",
       "      <td>0</td>\n",
       "      <td>520</td>\n",
       "      <td>2.93</td>\n",
       "      <td>4</td>\n",
       "      <td>0</td>\n",
       "      <td>0</td>\n",
       "      <td>0</td>\n",
       "      <td>1</td>\n",
       "    </tr>\n",
       "  </tbody>\n",
       "</table>\n",
       "</div>"
      ],
      "text/plain": [
       "   admit  gre   gpa  rank  1  2  3  4\n",
       "0      0  380  3.61     3  0  0  1  0\n",
       "1      1  660  3.67     3  0  0  1  0\n",
       "2      1  800  4.00     1  1  0  0  0\n",
       "3      1  640  3.19     4  0  0  0  1\n",
       "4      0  520  2.93     4  0  0  0  1"
      ]
     },
     "execution_count": 7,
     "metadata": {},
     "output_type": "execute_result"
    }
   ],
   "source": [
    "df.head()"
   ]
  },
  {
   "cell_type": "code",
   "execution_count": 31,
   "metadata": {
    "collapsed": false
   },
   "outputs": [
    {
     "name": "stdout",
     "output_type": "stream",
     "text": [
      "LogisticRegression(C=1.0, class_weight=None, dual=False, fit_intercept=True,\n",
      "          intercept_scaling=1, max_iter=100, multi_class='ovr', n_jobs=1,\n",
      "          penalty='l2', random_state=None, solver='liblinear', tol=0.0001,\n",
      "          verbose=0, warm_start=False)\n",
      "[[  1.63913356e-03   4.33354702e-04   1.15220976e+00   5.14395667e-01\n",
      "   -3.62326169e-02]]\n",
      "[-2.09315184]\n",
      "0.3175\n"
     ]
    }
   ],
   "source": [
    "print(lm.fit(df[['gre', 'gpa', 1, 2,3]], df['admit']))# dropped rank 4 \n",
    "## output of model; \n",
    "# C is the 1/Alpha\n",
    "\n",
    "print (lm.coef_)\n",
    "print (lm.intercept_)\n",
    "print (df.admit.mean()) "
   ]
  },
  {
   "cell_type": "code",
   "execution_count": 33,
   "metadata": {
    "collapsed": false
   },
   "outputs": [
    {
     "name": "stdout",
     "output_type": "stream",
     "text": [
      "[[ 1.00164048  1.00043345  3.16517946  1.67262737  0.96441593]]\n"
     ]
    }
   ],
   "source": [
    "print(np.exp(lm.coef_))\n",
    "# You can see that the coefficients for ranks 1 - 3 deteriorates, \n",
    "#as we know that rank 1 is more likely to result in admit than rank 2 or 3  "
   ]
  },
  {
   "cell_type": "markdown",
   "metadata": {},
   "source": [
    "Below is some code to walk through confusion matrices. It'll be useful for working through the Titanic problem."
   ]
  },
  {
   "cell_type": "code",
   "execution_count": 28,
   "metadata": {
    "collapsed": false
   },
   "outputs": [],
   "source": [
    "from sklearn.metrics import (roc_curve, roc_auc_score,)"
   ]
  },
  {
   "cell_type": "markdown",
   "metadata": {},
   "source": [
    "Below the ROC curve is based on various thresholds: it shows with a false positive rate (x-axis) ~0, it also expects a true positive rate (y-axis) ~0 (the same, ish, for the top right hand of the figure).\n",
    "\n",
    "The second chart, which does not play with thesholds, shows the one true TPR and FPR point, joined to 0,0 and 1,1.\n",
    "\n",
    "The first chart will be more effective as you compare models and determine where the decision line should exist for the data. The second simplifies the first in case this idea of thresholds is confusing."
   ]
  },
  {
   "cell_type": "code",
   "execution_count": 29,
   "metadata": {
    "collapsed": false
   },
   "outputs": [
    {
     "ename": "NameError",
     "evalue": "name 'feature_set' is not defined",
     "output_type": "error",
     "traceback": [
      "\u001b[0;31m---------------------------------------------------------------------------\u001b[0m",
      "\u001b[0;31mNameError\u001b[0m                                 Traceback (most recent call last)",
      "\u001b[0;32m<ipython-input-29-3a6ba23792dd>\u001b[0m in \u001b[0;36m<module>\u001b[0;34m()\u001b[0m\n\u001b[0;32m----> 1\u001b[0;31m \u001b[0mactuals\u001b[0m \u001b[1;33m=\u001b[0m \u001b[0mlm\u001b[0m\u001b[1;33m.\u001b[0m\u001b[0mpredict\u001b[0m\u001b[1;33m(\u001b[0m\u001b[0mfeature_set\u001b[0m\u001b[1;33m)\u001b[0m\u001b[1;33m\u001b[0m\u001b[0m\n\u001b[0m\u001b[1;32m      2\u001b[0m \u001b[0mprobas\u001b[0m \u001b[1;33m=\u001b[0m \u001b[0mlm\u001b[0m\u001b[1;33m.\u001b[0m\u001b[0mpredict_proba\u001b[0m\u001b[1;33m(\u001b[0m\u001b[0mfeature_set\u001b[0m\u001b[1;33m)\u001b[0m\u001b[1;33m\u001b[0m\u001b[0m\n\u001b[1;32m      3\u001b[0m \u001b[0mplt\u001b[0m\u001b[1;33m.\u001b[0m\u001b[0mplot\u001b[0m\u001b[1;33m(\u001b[0m\u001b[0mroc_curve\u001b[0m\u001b[1;33m(\u001b[0m\u001b[0mdf\u001b[0m\u001b[1;33m[\u001b[0m\u001b[1;33m[\u001b[0m\u001b[1;34m'admit'\u001b[0m\u001b[1;33m]\u001b[0m\u001b[1;33m]\u001b[0m\u001b[1;33m,\u001b[0m \u001b[0mprobas\u001b[0m\u001b[1;33m[\u001b[0m\u001b[1;33m:\u001b[0m\u001b[1;33m,\u001b[0m\u001b[1;36m1\u001b[0m\u001b[1;33m]\u001b[0m\u001b[1;33m)\u001b[0m\u001b[1;33m[\u001b[0m\u001b[1;36m0\u001b[0m\u001b[1;33m]\u001b[0m\u001b[1;33m,\u001b[0m \u001b[0mroc_curve\u001b[0m\u001b[1;33m(\u001b[0m\u001b[0mdf\u001b[0m\u001b[1;33m[\u001b[0m\u001b[1;33m[\u001b[0m\u001b[1;34m'admit'\u001b[0m\u001b[1;33m]\u001b[0m\u001b[1;33m]\u001b[0m\u001b[1;33m,\u001b[0m \u001b[0mprobas\u001b[0m\u001b[1;33m[\u001b[0m\u001b[1;33m:\u001b[0m\u001b[1;33m,\u001b[0m\u001b[1;36m1\u001b[0m\u001b[1;33m]\u001b[0m\u001b[1;33m)\u001b[0m\u001b[1;33m[\u001b[0m\u001b[1;36m1\u001b[0m\u001b[1;33m]\u001b[0m\u001b[1;33m)\u001b[0m\u001b[1;33m\u001b[0m\u001b[0m\n",
      "\u001b[0;31mNameError\u001b[0m: name 'feature_set' is not defined"
     ]
    }
   ],
   "source": [
    "# WE DIDNT USE THIS IN THE CLASS \n",
    "\n",
    "actuals = lm.predict(df_final) \n",
    "probas = lm.predict_proba(df_final)\n",
    "plt.plot(roc_curve(df[['admit']], probas[:,1])[0], roc_curve(df[['admit']], probas[:,1])[1])"
   ]
  },
  {
   "cell_type": "code",
   "execution_count": 71,
   "metadata": {
    "collapsed": false
   },
   "outputs": [
    {
     "data": {
      "text/plain": [
       "[<matplotlib.lines.Line2D at 0x10c1fe7d0>]"
      ]
     },
     "execution_count": 71,
     "metadata": {},
     "output_type": "execute_result"
    },
    {
     "data": {
      "image/png": "[encoded data removed]",
      "text/plain": [
       "<matplotlib.figure.Figure at 0x10c76a510>"
      ]
     },
     "metadata": {},
     "output_type": "display_data"
    }
   ],
   "source": [
    "plt.plot(roc_curve(df[['admit']], actuals)[0], roc_curve(df[['admit']], actuals)[1])"
   ]
  },
  {
   "cell_type": "markdown",
   "metadata": {},
   "source": [
    "Finally, you can use the `roc_auc_score` function to calculate the area under these curves (AUC)."
   ]
  },
  {
   "cell_type": "code",
   "execution_count": 72,
   "metadata": {
    "collapsed": false
   },
   "outputs": [
    {
     "data": {
      "text/plain": [
       "0.55914164575581893"
      ]
     },
     "execution_count": 72,
     "metadata": {},
     "output_type": "execute_result"
    }
   ],
   "source": [
    "roc_auc_score(df['admit'], lm.predict(feature_set)"
   ]
  },
  {
   "cell_type": "markdown",
   "metadata": {},
   "source": [
    "### Titanic Problem"
   ]
  },
  {
   "cell_type": "markdown",
   "metadata": {},
   "source": [
    "** Goals **\n",
    "\n",
    "1. Spend a few minutes determining which data would be most important to use in the prediction problem. You may need to create new features based on the data available. Consider using a feature selection aide in sklearn. But a worst case scenario; identify one or two strong features that would be useful to include in the model.\n",
    "2. Spend 1-2 minutes considering which _metric_ makes the most sense to optimize. Accuracy? FPR or TPR? AUC? Given the business problem (understanding survival rate aboard the Titanic), why should you use this metric?\n",
    "3. Build a tuned Logistic model. Be prepared to explain your design (including regularization), metric, and feature set in predicting survival using the tools necessary (such as a fit chart)."
   ]
  },
  {
   "cell_type": "code",
   "execution_count": 2,
   "metadata": {
    "collapsed": false
   },
   "outputs": [
    {
     "data": {
      "text/html": [
       "<div>\n",
       "<table border=\"1\" class=\"dataframe\">\n",
       "  <thead>\n",
       "    <tr style=\"text-align: right;\">\n",
       "      <th></th>\n",
       "      <th>PassengerId</th>\n",
       "      <th>Survived</th>\n",
       "      <th>Pclass</th>\n",
       "      <th>Name</th>\n",
       "      <th>Sex</th>\n",
       "      <th>Age</th>\n",
       "      <th>SibSp</th>\n",
       "      <th>Parch</th>\n",
       "      <th>Ticket</th>\n",
       "      <th>Fare</th>\n",
       "      <th>Cabin</th>\n",
       "      <th>Embarked</th>\n",
       "    </tr>\n",
       "  </thead>\n",
       "  <tbody>\n",
       "    <tr>\n",
       "      <th>0</th>\n",
       "      <td>1</td>\n",
       "      <td>0</td>\n",
       "      <td>3</td>\n",
       "      <td>Braund, Mr. Owen Harris</td>\n",
       "      <td>male</td>\n",
       "      <td>22.0</td>\n",
       "      <td>1</td>\n",
       "      <td>0</td>\n",
       "      <td>A/5 21171</td>\n",
       "      <td>7.2500</td>\n",
       "      <td>NaN</td>\n",
       "      <td>S</td>\n",
       "    </tr>\n",
       "    <tr>\n",
       "      <th>1</th>\n",
       "      <td>2</td>\n",
       "      <td>1</td>\n",
       "      <td>1</td>\n",
       "      <td>Cumings, Mrs. John Bradley (Florence Briggs Th...</td>\n",
       "      <td>female</td>\n",
       "      <td>38.0</td>\n",
       "      <td>1</td>\n",
       "      <td>0</td>\n",
       "      <td>PC 17599</td>\n",
       "      <td>71.2833</td>\n",
       "      <td>C85</td>\n",
       "      <td>C</td>\n",
       "    </tr>\n",
       "    <tr>\n",
       "      <th>2</th>\n",
       "      <td>3</td>\n",
       "      <td>1</td>\n",
       "      <td>3</td>\n",
       "      <td>Heikkinen, Miss. Laina</td>\n",
       "      <td>female</td>\n",
       "      <td>26.0</td>\n",
       "      <td>0</td>\n",
       "      <td>0</td>\n",
       "      <td>STON/O2. 3101282</td>\n",
       "      <td>7.9250</td>\n",
       "      <td>NaN</td>\n",
       "      <td>S</td>\n",
       "    </tr>\n",
       "    <tr>\n",
       "      <th>3</th>\n",
       "      <td>4</td>\n",
       "      <td>1</td>\n",
       "      <td>1</td>\n",
       "      <td>Futrelle, Mrs. Jacques Heath (Lily May Peel)</td>\n",
       "      <td>female</td>\n",
       "      <td>35.0</td>\n",
       "      <td>1</td>\n",
       "      <td>0</td>\n",
       "      <td>113803</td>\n",
       "      <td>53.1000</td>\n",
       "      <td>C123</td>\n",
       "      <td>S</td>\n",
       "    </tr>\n",
       "    <tr>\n",
       "      <th>4</th>\n",
       "      <td>5</td>\n",
       "      <td>0</td>\n",
       "      <td>3</td>\n",
       "      <td>Allen, Mr. William Henry</td>\n",
       "      <td>male</td>\n",
       "      <td>35.0</td>\n",
       "      <td>0</td>\n",
       "      <td>0</td>\n",
       "      <td>373450</td>\n",
       "      <td>8.0500</td>\n",
       "      <td>NaN</td>\n",
       "      <td>S</td>\n",
       "    </tr>\n",
       "  </tbody>\n",
       "</table>\n",
       "</div>"
      ],
      "text/plain": [
       "   PassengerId  Survived  Pclass  \\\n",
       "0            1         0       3   \n",
       "1            2         1       1   \n",
       "2            3         1       3   \n",
       "3            4         1       1   \n",
       "4            5         0       3   \n",
       "\n",
       "                                                Name     Sex   Age  SibSp  \\\n",
       "0                            Braund, Mr. Owen Harris    male  22.0      1   \n",
       "1  Cumings, Mrs. John Bradley (Florence Briggs Th...  female  38.0      1   \n",
       "2                             Heikkinen, Miss. Laina  female  26.0      0   \n",
       "3       Futrelle, Mrs. Jacques Heath (Lily May Peel)  female  35.0      1   \n",
       "4                           Allen, Mr. William Henry    male  35.0      0   \n",
       "\n",
       "   Parch            Ticket     Fare Cabin Embarked  \n",
       "0      0         A/5 21171   7.2500   NaN        S  \n",
       "1      0          PC 17599  71.2833   C85        C  \n",
       "2      0  STON/O2. 3101282   7.9250   NaN        S  \n",
       "3      0            113803  53.1000  C123        S  \n",
       "4      0            373450   8.0500   NaN        S  "
      ]
     },
     "execution_count": 2,
     "metadata": {},
     "output_type": "execute_result"
    }
   ],
   "source": [
    "df_titanic = pd.read_csv('C:/Users/BeckyC/Desktop/Data Science - GA files/titanic.csv')\n",
    "df_titanic.head() \n",
    "#pd.get_dummies(df_titanic['pclass']) \n",
    "\n",
    "\n",
    "#build logistic regression model using best features\n",
    "# gridsearch C & class_weight to apply cross validation "
   ]
  },
  {
   "cell_type": "code",
   "execution_count": 3,
   "metadata": {
    "collapsed": false
   },
   "outputs": [
    {
     "data": {
      "text/html": [
       "<div>\n",
       "<table border=\"1\" class=\"dataframe\">\n",
       "  <thead>\n",
       "    <tr style=\"text-align: right;\">\n",
       "      <th></th>\n",
       "      <th>Survived</th>\n",
       "      <th>Pclass</th>\n",
       "      <th>Sex</th>\n",
       "      <th>SibSp</th>\n",
       "    </tr>\n",
       "  </thead>\n",
       "  <tbody>\n",
       "    <tr>\n",
       "      <th>0</th>\n",
       "      <td>0</td>\n",
       "      <td>3</td>\n",
       "      <td>male</td>\n",
       "      <td>1</td>\n",
       "    </tr>\n",
       "    <tr>\n",
       "      <th>1</th>\n",
       "      <td>1</td>\n",
       "      <td>1</td>\n",
       "      <td>female</td>\n",
       "      <td>1</td>\n",
       "    </tr>\n",
       "    <tr>\n",
       "      <th>2</th>\n",
       "      <td>1</td>\n",
       "      <td>3</td>\n",
       "      <td>female</td>\n",
       "      <td>0</td>\n",
       "    </tr>\n",
       "    <tr>\n",
       "      <th>3</th>\n",
       "      <td>1</td>\n",
       "      <td>1</td>\n",
       "      <td>female</td>\n",
       "      <td>1</td>\n",
       "    </tr>\n",
       "    <tr>\n",
       "      <th>4</th>\n",
       "      <td>0</td>\n",
       "      <td>3</td>\n",
       "      <td>male</td>\n",
       "      <td>0</td>\n",
       "    </tr>\n",
       "  </tbody>\n",
       "</table>\n",
       "</div>"
      ],
      "text/plain": [
       "   Survived  Pclass     Sex  SibSp\n",
       "0         0       3    male      1\n",
       "1         1       1  female      1\n",
       "2         1       3  female      0\n",
       "3         1       1  female      1\n",
       "4         0       3    male      0"
      ]
     },
     "execution_count": 3,
     "metadata": {},
     "output_type": "execute_result"
    }
   ],
   "source": [
    "##identifying any nulls in the data \n",
    "df_titanic.isnull().describe()\n",
    "#pd.impute - use this to fill blanks, I'll specify the mean etc to compute \n",
    "\n",
    "# but for this dataset I am going to drop the columns which have nulls and a few others that I don't think will be predictive.\n",
    "cols_to_keep =['Survived','Pclass','Sex','SibSp']\n",
    "df_Model = df_titanic[cols_to_keep]\n",
    "df_Model.head()"
   ]
  },
  {
   "cell_type": "code",
   "execution_count": 53,
   "metadata": {
    "collapsed": false
   },
   "outputs": [
    {
     "data": {
      "text/html": [
       "<div>\n",
       "<table border=\"1\" class=\"dataframe\">\n",
       "  <thead>\n",
       "    <tr style=\"text-align: right;\">\n",
       "      <th></th>\n",
       "      <th>Survived</th>\n",
       "      <th>Pclass</th>\n",
       "      <th>SibSp</th>\n",
       "    </tr>\n",
       "  </thead>\n",
       "  <tbody>\n",
       "    <tr>\n",
       "      <th>Survived</th>\n",
       "      <td>1.000000</td>\n",
       "      <td>-0.338481</td>\n",
       "      <td>-0.035322</td>\n",
       "    </tr>\n",
       "    <tr>\n",
       "      <th>Pclass</th>\n",
       "      <td>-0.338481</td>\n",
       "      <td>1.000000</td>\n",
       "      <td>0.083081</td>\n",
       "    </tr>\n",
       "    <tr>\n",
       "      <th>SibSp</th>\n",
       "      <td>-0.035322</td>\n",
       "      <td>0.083081</td>\n",
       "      <td>1.000000</td>\n",
       "    </tr>\n",
       "  </tbody>\n",
       "</table>\n",
       "</div>"
      ],
      "text/plain": [
       "          Survived    Pclass     SibSp\n",
       "Survived  1.000000 -0.338481 -0.035322\n",
       "Pclass   -0.338481  1.000000  0.083081\n",
       "SibSp    -0.035322  0.083081  1.000000"
      ]
     },
     "execution_count": 53,
     "metadata": {},
     "output_type": "execute_result"
    },
    {
     "data": {
      "image/png": "[encoded data removed]",
      "text/plain": [
       "<matplotlib.figure.Figure at 0xcfc8128>"
      ]
     },
     "metadata": {},
     "output_type": "display_data"
    }
   ],
   "source": [
    "#predict survival \n",
    "sns.heatmap(df_Model.corr())\n",
    "df_Model.corr() # nb categorical variables won't appear in correlation matrix, so need to create dummies."
   ]
  },
  {
   "cell_type": "code",
   "execution_count": 4,
   "metadata": {
    "collapsed": false
   },
   "outputs": [],
   "source": [
    "pclass = pd.get_dummies(df_Model.Pclass)\n",
    "pclass.columns = ['pclass_' + str(i) for i in pclass.columns]\n",
    "\n",
    "sex = pd.get_dummies(df_Model.Sex)\n",
    "sex.columns = ['sex_' + str(i) for i in sex.columns]\n",
    "\n",
    "\n",
    "sib = pd.get_dummies(df_Model.SibSp) # sib_1 to 8 \n",
    "sib.columns = ['sib_' + str(i) for i in sib.columns]\n",
    "\n",
    "df_Model = df_Model.join(pclass)\n",
    "df_Model = df_Model.join(sex)\n",
    "df_Model = df_Model.join(sib)\n",
    "\n"
   ]
  },
  {
   "cell_type": "code",
   "execution_count": 5,
   "metadata": {
    "collapsed": false
   },
   "outputs": [],
   "source": [
    "df_Model.head()\n",
    "columns_to_keep = ['Survived', 'sex_male', 'sex_female', 'pclass_1', 'pclass_2', 'pclass_3','sib_8']\n",
    "columns_to_keep.extend(['sib_' + str(i) for i in range(0, 6)])\n",
    "df_model = df_Model[columns_to_keep]"
   ]
  },
  {
   "cell_type": "code",
   "execution_count": 85,
   "metadata": {
    "collapsed": false
   },
   "outputs": [
    {
     "data": {
      "text/html": [
       "<div>\n",
       "<table border=\"1\" class=\"dataframe\">\n",
       "  <thead>\n",
       "    <tr style=\"text-align: right;\">\n",
       "      <th></th>\n",
       "      <th>Survived</th>\n",
       "      <th>sex_male</th>\n",
       "      <th>sex_female</th>\n",
       "      <th>pclass_1</th>\n",
       "      <th>pclass_2</th>\n",
       "      <th>pclass_3</th>\n",
       "      <th>sib_8</th>\n",
       "      <th>sib_0</th>\n",
       "      <th>sib_1</th>\n",
       "      <th>sib_2</th>\n",
       "      <th>sib_3</th>\n",
       "      <th>sib_4</th>\n",
       "      <th>sib_5</th>\n",
       "    </tr>\n",
       "  </thead>\n",
       "  <tbody>\n",
       "    <tr>\n",
       "      <th>Survived</th>\n",
       "      <td>1.000000</td>\n",
       "      <td>-0.543351</td>\n",
       "      <td>0.543351</td>\n",
       "      <td>0.285904</td>\n",
       "      <td>0.093349</td>\n",
       "      <td>-0.322308</td>\n",
       "      <td>-0.070234</td>\n",
       "      <td>-0.115867</td>\n",
       "      <td>0.173076</td>\n",
       "      <td>0.029796</td>\n",
       "      <td>-0.037215</td>\n",
       "      <td>-0.064123</td>\n",
       "      <td>-0.059292</td>\n",
       "    </tr>\n",
       "    <tr>\n",
       "      <th>sex_male</th>\n",
       "      <td>-0.543351</td>\n",
       "      <td>1.000000</td>\n",
       "      <td>-1.000000</td>\n",
       "      <td>-0.098013</td>\n",
       "      <td>-0.064746</td>\n",
       "      <td>0.137143</td>\n",
       "      <td>-0.014186</td>\n",
       "      <td>0.203203</td>\n",
       "      <td>-0.179339</td>\n",
       "      <td>-0.042182</td>\n",
       "      <td>-0.094850</td>\n",
       "      <td>0.005735</td>\n",
       "      <td>0.023967</td>\n",
       "    </tr>\n",
       "    <tr>\n",
       "      <th>sex_female</th>\n",
       "      <td>0.543351</td>\n",
       "      <td>-1.000000</td>\n",
       "      <td>1.000000</td>\n",
       "      <td>0.098013</td>\n",
       "      <td>0.064746</td>\n",
       "      <td>-0.137143</td>\n",
       "      <td>0.014186</td>\n",
       "      <td>-0.203203</td>\n",
       "      <td>0.179339</td>\n",
       "      <td>0.042182</td>\n",
       "      <td>0.094850</td>\n",
       "      <td>-0.005735</td>\n",
       "      <td>-0.023967</td>\n",
       "    </tr>\n",
       "    <tr>\n",
       "      <th>pclass_1</th>\n",
       "      <td>0.285904</td>\n",
       "      <td>-0.098013</td>\n",
       "      <td>0.098013</td>\n",
       "      <td>1.000000</td>\n",
       "      <td>-0.288585</td>\n",
       "      <td>-0.626738</td>\n",
       "      <td>-0.050338</td>\n",
       "      <td>-0.058470</td>\n",
       "      <td>0.125673</td>\n",
       "      <td>-0.026838</td>\n",
       "      <td>-0.017331</td>\n",
       "      <td>-0.081228</td>\n",
       "      <td>-0.042496</td>\n",
       "    </tr>\n",
       "    <tr>\n",
       "      <th>pclass_2</th>\n",
       "      <td>0.093349</td>\n",
       "      <td>-0.064746</td>\n",
       "      <td>0.064746</td>\n",
       "      <td>-0.288585</td>\n",
       "      <td>1.000000</td>\n",
       "      <td>-0.565210</td>\n",
       "      <td>-0.045396</td>\n",
       "      <td>-0.033099</td>\n",
       "      <td>0.077469</td>\n",
       "      <td>0.035244</td>\n",
       "      <td>-0.048107</td>\n",
       "      <td>-0.073253</td>\n",
       "      <td>-0.038324</td>\n",
       "    </tr>\n",
       "    <tr>\n",
       "      <th>pclass_3</th>\n",
       "      <td>-0.322308</td>\n",
       "      <td>0.137143</td>\n",
       "      <td>-0.137143</td>\n",
       "      <td>-0.626738</td>\n",
       "      <td>-0.565210</td>\n",
       "      <td>1.000000</td>\n",
       "      <td>0.080318</td>\n",
       "      <td>0.077316</td>\n",
       "      <td>-0.171329</td>\n",
       "      <td>-0.005560</td>\n",
       "      <td>0.054084</td>\n",
       "      <td>0.129604</td>\n",
       "      <td>0.067804</td>\n",
       "    </tr>\n",
       "    <tr>\n",
       "      <th>sib_8</th>\n",
       "      <td>-0.070234</td>\n",
       "      <td>-0.014186</td>\n",
       "      <td>0.014186</td>\n",
       "      <td>-0.050338</td>\n",
       "      <td>-0.045396</td>\n",
       "      <td>0.080318</td>\n",
       "      <td>1.000000</td>\n",
       "      <td>-0.130431</td>\n",
       "      <td>-0.049261</td>\n",
       "      <td>-0.016029</td>\n",
       "      <td>-0.012033</td>\n",
       "      <td>-0.012778</td>\n",
       "      <td>-0.006685</td>\n",
       "    </tr>\n",
       "    <tr>\n",
       "      <th>sib_0</th>\n",
       "      <td>-0.115867</td>\n",
       "      <td>0.203203</td>\n",
       "      <td>-0.203203</td>\n",
       "      <td>-0.058470</td>\n",
       "      <td>-0.033099</td>\n",
       "      <td>0.077316</td>\n",
       "      <td>-0.130431</td>\n",
       "      <td>1.000000</td>\n",
       "      <td>-0.811408</td>\n",
       "      <td>-0.264017</td>\n",
       "      <td>-0.198205</td>\n",
       "      <td>-0.210469</td>\n",
       "      <td>-0.110110</td>\n",
       "    </tr>\n",
       "    <tr>\n",
       "      <th>sib_1</th>\n",
       "      <td>0.173076</td>\n",
       "      <td>-0.179339</td>\n",
       "      <td>0.179339</td>\n",
       "      <td>0.125673</td>\n",
       "      <td>0.077469</td>\n",
       "      <td>-0.171329</td>\n",
       "      <td>-0.049261</td>\n",
       "      <td>-0.811408</td>\n",
       "      <td>1.000000</td>\n",
       "      <td>-0.099714</td>\n",
       "      <td>-0.074858</td>\n",
       "      <td>-0.079490</td>\n",
       "      <td>-0.041586</td>\n",
       "    </tr>\n",
       "    <tr>\n",
       "      <th>sib_2</th>\n",
       "      <td>0.029796</td>\n",
       "      <td>-0.042182</td>\n",
       "      <td>0.042182</td>\n",
       "      <td>-0.026838</td>\n",
       "      <td>0.035244</td>\n",
       "      <td>-0.005560</td>\n",
       "      <td>-0.016029</td>\n",
       "      <td>-0.264017</td>\n",
       "      <td>-0.099714</td>\n",
       "      <td>1.000000</td>\n",
       "      <td>-0.024357</td>\n",
       "      <td>-0.025864</td>\n",
       "      <td>-0.013531</td>\n",
       "    </tr>\n",
       "    <tr>\n",
       "      <th>sib_3</th>\n",
       "      <td>-0.037215</td>\n",
       "      <td>-0.094850</td>\n",
       "      <td>0.094850</td>\n",
       "      <td>-0.017331</td>\n",
       "      <td>-0.048107</td>\n",
       "      <td>0.054084</td>\n",
       "      <td>-0.012033</td>\n",
       "      <td>-0.198205</td>\n",
       "      <td>-0.074858</td>\n",
       "      <td>-0.024357</td>\n",
       "      <td>1.000000</td>\n",
       "      <td>-0.019417</td>\n",
       "      <td>-0.010158</td>\n",
       "    </tr>\n",
       "    <tr>\n",
       "      <th>sib_4</th>\n",
       "      <td>-0.064123</td>\n",
       "      <td>0.005735</td>\n",
       "      <td>-0.005735</td>\n",
       "      <td>-0.081228</td>\n",
       "      <td>-0.073253</td>\n",
       "      <td>0.129604</td>\n",
       "      <td>-0.012778</td>\n",
       "      <td>-0.210469</td>\n",
       "      <td>-0.079490</td>\n",
       "      <td>-0.025864</td>\n",
       "      <td>-0.019417</td>\n",
       "      <td>1.000000</td>\n",
       "      <td>-0.010787</td>\n",
       "    </tr>\n",
       "    <tr>\n",
       "      <th>sib_5</th>\n",
       "      <td>-0.059292</td>\n",
       "      <td>0.023967</td>\n",
       "      <td>-0.023967</td>\n",
       "      <td>-0.042496</td>\n",
       "      <td>-0.038324</td>\n",
       "      <td>0.067804</td>\n",
       "      <td>-0.006685</td>\n",
       "      <td>-0.110110</td>\n",
       "      <td>-0.041586</td>\n",
       "      <td>-0.013531</td>\n",
       "      <td>-0.010158</td>\n",
       "      <td>-0.010787</td>\n",
       "      <td>1.000000</td>\n",
       "    </tr>\n",
       "  </tbody>\n",
       "</table>\n",
       "</div>"
      ],
      "text/plain": [
       "            Survived  sex_male  sex_female  pclass_1  pclass_2  pclass_3  \\\n",
       "Survived    1.000000 -0.543351    0.543351  0.285904  0.093349 -0.322308   \n",
       "sex_male   -0.543351  1.000000   -1.000000 -0.098013 -0.064746  0.137143   \n",
       "sex_female  0.543351 -1.000000    1.000000  0.098013  0.064746 -0.137143   \n",
       "pclass_1    0.285904 -0.098013    0.098013  1.000000 -0.288585 -0.626738   \n",
       "pclass_2    0.093349 -0.064746    0.064746 -0.288585  1.000000 -0.565210   \n",
       "pclass_3   -0.322308  0.137143   -0.137143 -0.626738 -0.565210  1.000000   \n",
       "sib_8      -0.070234 -0.014186    0.014186 -0.050338 -0.045396  0.080318   \n",
       "sib_0      -0.115867  0.203203   -0.203203 -0.058470 -0.033099  0.077316   \n",
       "sib_1       0.173076 -0.179339    0.179339  0.125673  0.077469 -0.171329   \n",
       "sib_2       0.029796 -0.042182    0.042182 -0.026838  0.035244 -0.005560   \n",
       "sib_3      -0.037215 -0.094850    0.094850 -0.017331 -0.048107  0.054084   \n",
       "sib_4      -0.064123  0.005735   -0.005735 -0.081228 -0.073253  0.129604   \n",
       "sib_5      -0.059292  0.023967   -0.023967 -0.042496 -0.038324  0.067804   \n",
       "\n",
       "               sib_8     sib_0     sib_1     sib_2     sib_3     sib_4  \\\n",
       "Survived   -0.070234 -0.115867  0.173076  0.029796 -0.037215 -0.064123   \n",
       "sex_male   -0.014186  0.203203 -0.179339 -0.042182 -0.094850  0.005735   \n",
       "sex_female  0.014186 -0.203203  0.179339  0.042182  0.094850 -0.005735   \n",
       "pclass_1   -0.050338 -0.058470  0.125673 -0.026838 -0.017331 -0.081228   \n",
       "pclass_2   -0.045396 -0.033099  0.077469  0.035244 -0.048107 -0.073253   \n",
       "pclass_3    0.080318  0.077316 -0.171329 -0.005560  0.054084  0.129604   \n",
       "sib_8       1.000000 -0.130431 -0.049261 -0.016029 -0.012033 -0.012778   \n",
       "sib_0      -0.130431  1.000000 -0.811408 -0.264017 -0.198205 -0.210469   \n",
       "sib_1      -0.049261 -0.811408  1.000000 -0.099714 -0.074858 -0.079490   \n",
       "sib_2      -0.016029 -0.264017 -0.099714  1.000000 -0.024357 -0.025864   \n",
       "sib_3      -0.012033 -0.198205 -0.074858 -0.024357  1.000000 -0.019417   \n",
       "sib_4      -0.012778 -0.210469 -0.079490 -0.025864 -0.019417  1.000000   \n",
       "sib_5      -0.006685 -0.110110 -0.041586 -0.013531 -0.010158 -0.010787   \n",
       "\n",
       "               sib_5  \n",
       "Survived   -0.059292  \n",
       "sex_male    0.023967  \n",
       "sex_female -0.023967  \n",
       "pclass_1   -0.042496  \n",
       "pclass_2   -0.038324  \n",
       "pclass_3    0.067804  \n",
       "sib_8      -0.006685  \n",
       "sib_0      -0.110110  \n",
       "sib_1      -0.041586  \n",
       "sib_2      -0.013531  \n",
       "sib_3      -0.010158  \n",
       "sib_4      -0.010787  \n",
       "sib_5       1.000000  "
      ]
     },
     "execution_count": 85,
     "metadata": {},
     "output_type": "execute_result"
    },
    {
     "data": {
      "image/png": "[encoded data removed]",
      "text/plain": [
       "<matplotlib.figure.Figure at 0xde68828>"
      ]
     },
     "metadata": {},
     "output_type": "display_data"
    }
   ],
   "source": [
    "sns.heatmap(df_model.corr())\n",
    "df_model.corr()\n"
   ]
  },
  {
   "cell_type": "code",
   "execution_count": 6,
   "metadata": {
    "collapsed": false
   },
   "outputs": [
    {
     "data": {
      "text/html": [
       "<div>\n",
       "<table border=\"1\" class=\"dataframe\">\n",
       "  <thead>\n",
       "    <tr style=\"text-align: right;\">\n",
       "      <th></th>\n",
       "      <th>Survived</th>\n",
       "      <th>sex_male</th>\n",
       "      <th>pclass_1</th>\n",
       "      <th>pclass_3</th>\n",
       "      <th>sib_0</th>\n",
       "      <th>sib_1</th>\n",
       "    </tr>\n",
       "  </thead>\n",
       "  <tbody>\n",
       "    <tr>\n",
       "      <th>0</th>\n",
       "      <td>0</td>\n",
       "      <td>1</td>\n",
       "      <td>0</td>\n",
       "      <td>1</td>\n",
       "      <td>0</td>\n",
       "      <td>1</td>\n",
       "    </tr>\n",
       "    <tr>\n",
       "      <th>1</th>\n",
       "      <td>1</td>\n",
       "      <td>0</td>\n",
       "      <td>1</td>\n",
       "      <td>0</td>\n",
       "      <td>0</td>\n",
       "      <td>1</td>\n",
       "    </tr>\n",
       "    <tr>\n",
       "      <th>2</th>\n",
       "      <td>1</td>\n",
       "      <td>0</td>\n",
       "      <td>0</td>\n",
       "      <td>1</td>\n",
       "      <td>1</td>\n",
       "      <td>0</td>\n",
       "    </tr>\n",
       "    <tr>\n",
       "      <th>3</th>\n",
       "      <td>1</td>\n",
       "      <td>0</td>\n",
       "      <td>1</td>\n",
       "      <td>0</td>\n",
       "      <td>0</td>\n",
       "      <td>1</td>\n",
       "    </tr>\n",
       "    <tr>\n",
       "      <th>4</th>\n",
       "      <td>0</td>\n",
       "      <td>1</td>\n",
       "      <td>0</td>\n",
       "      <td>1</td>\n",
       "      <td>1</td>\n",
       "      <td>0</td>\n",
       "    </tr>\n",
       "  </tbody>\n",
       "</table>\n",
       "</div>"
      ],
      "text/plain": [
       "   Survived  sex_male  pclass_1  pclass_3  sib_0  sib_1\n",
       "0         0         1         0         1      0      1\n",
       "1         1         0         1         0      0      1\n",
       "2         1         0         0         1      1      0\n",
       "3         1         0         1         0      0      1\n",
       "4         0         1         0         1      1      0"
      ]
     },
     "execution_count": 6,
     "metadata": {},
     "output_type": "execute_result"
    }
   ],
   "source": [
    "#keeping features which are correlated with survival and dropping one of the dummies.\n",
    "cols_to_keep =['Survived', 'sex_male' ,'pclass_1','pclass_3','sib_0','sib_1']\n",
    "df_final = df_model[cols_to_keep]\n",
    "df_final.head()"
   ]
  },
  {
   "cell_type": "code",
   "execution_count": 10,
   "metadata": {
    "collapsed": false
   },
   "outputs": [
    {
     "data": {
      "text/plain": [
       "Survived\n",
       "0    Axes(0.125,0.125;0.775x0.755)\n",
       "1    Axes(0.125,0.125;0.775x0.755)\n",
       "Name: pclass_1, dtype: object"
      ]
     },
     "execution_count": 10,
     "metadata": {},
     "output_type": "execute_result"
    },
    {
     "data": {
      "image/png": "[encoded data removed]",
      "text/plain": [
       "<matplotlib.figure.Figure at 0xb703400>"
      ]
     },
     "metadata": {},
     "output_type": "display_data"
    }
   ],
   "source": [
    "%matplotlib inline\n",
    "\n",
    "df_final.groupby('Survived').pclass_1.hist()"
   ]
  },
  {
   "cell_type": "code",
   "execution_count": null,
   "metadata": {
    "collapsed": true
   },
   "outputs": [],
   "source": [
    "print(lm.fit(df_final[['sex_male', 'pclass_1', 'pclass_3','sib_0','sib_1']], df_final['Survived']))\n",
    "## output of model; \n",
    "# C is the 1/Alpha\n",
    "\n",
    "print (lm.coef_)\n",
    "print (lm.intercept_)\n",
    "print (df_final.Survived.mean()) \n",
    "lm.predict(df_final[['sex_male', 'pclass_1', 'pclass_3','sib_0','sib_1']]) # this makes a prediction based on the AUC = 0.7\n",
    "\n",
    "#Can I add lm.predict result into a new column of my dataframe?"
   ]
  },
  {
   "cell_type": "code",
   "execution_count": 92,
   "metadata": {
    "collapsed": false
   },
   "outputs": [
    {
     "data": {
      "text/html": [
       "<div>\n",
       "<table border=\"1\" class=\"dataframe\">\n",
       "  <thead>\n",
       "    <tr style=\"text-align: right;\">\n",
       "      <th></th>\n",
       "      <th>Survived</th>\n",
       "      <th>sex_male</th>\n",
       "      <th>sex_female</th>\n",
       "      <th>pclass_1</th>\n",
       "      <th>pclass_2</th>\n",
       "      <th>pclass_3</th>\n",
       "      <th>sib_8</th>\n",
       "      <th>sib_0</th>\n",
       "      <th>sib_1</th>\n",
       "      <th>sib_2</th>\n",
       "      <th>sib_3</th>\n",
       "      <th>sib_4</th>\n",
       "      <th>sib_5</th>\n",
       "    </tr>\n",
       "  </thead>\n",
       "  <tbody>\n",
       "    <tr>\n",
       "      <th>0</th>\n",
       "      <td>0</td>\n",
       "      <td>1</td>\n",
       "      <td>0</td>\n",
       "      <td>0</td>\n",
       "      <td>0</td>\n",
       "      <td>1</td>\n",
       "      <td>0</td>\n",
       "      <td>0</td>\n",
       "      <td>1</td>\n",
       "      <td>0</td>\n",
       "      <td>0</td>\n",
       "      <td>0</td>\n",
       "      <td>0</td>\n",
       "    </tr>\n",
       "    <tr>\n",
       "      <th>1</th>\n",
       "      <td>1</td>\n",
       "      <td>0</td>\n",
       "      <td>1</td>\n",
       "      <td>1</td>\n",
       "      <td>0</td>\n",
       "      <td>0</td>\n",
       "      <td>0</td>\n",
       "      <td>0</td>\n",
       "      <td>1</td>\n",
       "      <td>0</td>\n",
       "      <td>0</td>\n",
       "      <td>0</td>\n",
       "      <td>0</td>\n",
       "    </tr>\n",
       "    <tr>\n",
       "      <th>2</th>\n",
       "      <td>1</td>\n",
       "      <td>0</td>\n",
       "      <td>1</td>\n",
       "      <td>0</td>\n",
       "      <td>0</td>\n",
       "      <td>1</td>\n",
       "      <td>0</td>\n",
       "      <td>1</td>\n",
       "      <td>0</td>\n",
       "      <td>0</td>\n",
       "      <td>0</td>\n",
       "      <td>0</td>\n",
       "      <td>0</td>\n",
       "    </tr>\n",
       "    <tr>\n",
       "      <th>3</th>\n",
       "      <td>1</td>\n",
       "      <td>0</td>\n",
       "      <td>1</td>\n",
       "      <td>1</td>\n",
       "      <td>0</td>\n",
       "      <td>0</td>\n",
       "      <td>0</td>\n",
       "      <td>0</td>\n",
       "      <td>1</td>\n",
       "      <td>0</td>\n",
       "      <td>0</td>\n",
       "      <td>0</td>\n",
       "      <td>0</td>\n",
       "    </tr>\n",
       "    <tr>\n",
       "      <th>4</th>\n",
       "      <td>0</td>\n",
       "      <td>1</td>\n",
       "      <td>0</td>\n",
       "      <td>0</td>\n",
       "      <td>0</td>\n",
       "      <td>1</td>\n",
       "      <td>0</td>\n",
       "      <td>1</td>\n",
       "      <td>0</td>\n",
       "      <td>0</td>\n",
       "      <td>0</td>\n",
       "      <td>0</td>\n",
       "      <td>0</td>\n",
       "    </tr>\n",
       "  </tbody>\n",
       "</table>\n",
       "</div>"
      ],
      "text/plain": [
       "   Survived  sex_male  sex_female  pclass_1  pclass_2  pclass_3  sib_8  sib_0  \\\n",
       "0         0         1           0         0         0         1      0      0   \n",
       "1         1         0           1         1         0         0      0      0   \n",
       "2         1         0           1         0         0         1      0      1   \n",
       "3         1         0           1         1         0         0      0      0   \n",
       "4         0         1           0         0         0         1      0      1   \n",
       "\n",
       "   sib_1  sib_2  sib_3  sib_4  sib_5  \n",
       "0      1      0      0      0      0  \n",
       "1      1      0      0      0      0  \n",
       "2      0      0      0      0      0  \n",
       "3      1      0      0      0      0  \n",
       "4      0      0      0      0      0  "
      ]
     },
     "execution_count": 92,
     "metadata": {},
     "output_type": "execute_result"
    }
   ],
   "source": [
    "df_model.head()\n"
   ]
  },
  {
   "cell_type": "code",
   "execution_count": 98,
   "metadata": {
    "collapsed": false
   },
   "outputs": [
    {
     "data": {
      "text/plain": [
       "dict_keys(['C', 'class_weight', 'dual', 'fit_intercept', 'intercept_scaling', 'max_iter', 'multi_class', 'n_jobs', 'penalty', 'random_state', 'solver', 'tol', 'verbose', 'warm_start'])"
      ]
     },
     "execution_count": 98,
     "metadata": {},
     "output_type": "execute_result"
    }
   ],
   "source": [
    "LogisticRegression().get_params().keys()"
   ]
  },
  {
   "cell_type": "code",
   "execution_count": 13,
   "metadata": {
    "collapsed": false
   },
   "outputs": [
    {
     "name": "stdout",
     "output_type": "stream",
     "text": [
      "-0.8383943923979269\n",
      "LogisticRegression(C=1.0, class_weight=None, dual=False, fit_intercept=True,\n",
      "          intercept_scaling=1, max_iter=100, multi_class='ovr', n_jobs=1,\n",
      "          penalty='l2', random_state=None, solver='liblinear', tol=0.0001,\n",
      "          verbose=0, warm_start=False)\n",
      "mean: 0.82335, std: 0.01765, params: {'C': 1e-10, 'class_weight': None}\n",
      "mean: 0.81376, std: 0.03118, params: {'C': 1e-10, 'class_weight': 'balanced'}\n",
      "mean: 0.82335, std: 0.01765, params: {'C': 1.0000000000000001e-09, 'class_weight': None}\n",
      "mean: 0.81376, std: 0.03118, params: {'C': 1.0000000000000001e-09, 'class_weight': 'balanced'}\n",
      "mean: 0.82335, std: 0.01765, params: {'C': 1e-08, 'class_weight': None}\n",
      "mean: 0.81376, std: 0.03118, params: {'C': 1e-08, 'class_weight': 'balanced'}\n",
      "mean: 0.82335, std: 0.01765, params: {'C': 9.9999999999999995e-08, 'class_weight': None}\n",
      "mean: 0.81376, std: 0.03118, params: {'C': 9.9999999999999995e-08, 'class_weight': 'balanced'}\n",
      "mean: 0.82335, std: 0.01765, params: {'C': 9.9999999999999995e-07, 'class_weight': None}\n",
      "mean: 0.81376, std: 0.03118, params: {'C': 9.9999999999999995e-07, 'class_weight': 'balanced'}\n",
      "mean: 0.82335, std: 0.01765, params: {'C': 1.0000000000000001e-05, 'class_weight': None}\n",
      "mean: 0.81376, std: 0.03118, params: {'C': 1.0000000000000001e-05, 'class_weight': 'balanced'}\n",
      "mean: 0.82335, std: 0.01765, params: {'C': 0.0001, 'class_weight': None}\n",
      "mean: 0.81376, std: 0.03118, params: {'C': 0.0001, 'class_weight': 'balanced'}\n",
      "mean: 0.81716, std: 0.03007, params: {'C': 0.001, 'class_weight': None}\n",
      "mean: 0.81564, std: 0.03237, params: {'C': 0.001, 'class_weight': 'balanced'}\n",
      "mean: 0.82446, std: 0.02813, params: {'C': 0.01, 'class_weight': None}\n",
      "mean: 0.82880, std: 0.02585, params: {'C': 0.01, 'class_weight': 'balanced'}\n",
      "mean: 0.83751, std: 0.00977, params: {'C': 0.10000000000000001, 'class_weight': None}\n",
      "mean: 0.83698, std: 0.01105, params: {'C': 0.10000000000000001, 'class_weight': 'balanced'}\n",
      "mean: 0.83839, std: 0.00766, params: {'C': 1.0, 'class_weight': None}\n",
      "mean: 0.83746, std: 0.00918, params: {'C': 1.0, 'class_weight': 'balanced'}\n",
      "mean: 0.83748, std: 0.00921, params: {'C': 10.0, 'class_weight': None}\n",
      "mean: 0.83754, std: 0.00918, params: {'C': 10.0, 'class_weight': 'balanced'}\n",
      "mean: 0.83746, std: 0.00918, params: {'C': 100.0, 'class_weight': None}\n",
      "mean: 0.83754, std: 0.00918, params: {'C': 100.0, 'class_weight': 'balanced'}\n",
      "mean: 0.83746, std: 0.00918, params: {'C': 1000.0, 'class_weight': None}\n",
      "mean: 0.83754, std: 0.00918, params: {'C': 1000.0, 'class_weight': 'balanced'}\n",
      "mean: 0.83746, std: 0.00918, params: {'C': 10000.0, 'class_weight': None}\n",
      "mean: 0.83754, std: 0.00918, params: {'C': 10000.0, 'class_weight': 'balanced'}\n",
      "mean: 0.83746, std: 0.00918, params: {'C': 100000.0, 'class_weight': None}\n",
      "mean: 0.83754, std: 0.00918, params: {'C': 100000.0, 'class_weight': 'balanced'}\n",
      "mean: 0.83746, std: 0.00918, params: {'C': 1000000.0, 'class_weight': None}\n",
      "mean: 0.83754, std: 0.00918, params: {'C': 1000000.0, 'class_weight': 'balanced'}\n",
      "mean: 0.83746, std: 0.00918, params: {'C': 10000000.0, 'class_weight': None}\n",
      "mean: 0.83754, std: 0.00918, params: {'C': 10000000.0, 'class_weight': 'balanced'}\n",
      "mean: 0.83746, std: 0.00918, params: {'C': 100000000.0, 'class_weight': None}\n",
      "mean: 0.83754, std: 0.00918, params: {'C': 100000000.0, 'class_weight': 'balanced'}\n",
      "mean: 0.83746, std: 0.00918, params: {'C': 1000000000.0, 'class_weight': None}\n",
      "mean: 0.83754, std: 0.00918, params: {'C': 1000000000.0, 'class_weight': 'balanced'}\n",
      "mean: 0.83746, std: 0.00918, params: {'C': 10000000000.0, 'class_weight': None}\n",
      "mean: 0.83754, std: 0.00918, params: {'C': 10000000000.0, 'class_weight': 'balanced'}\n"
     ]
    }
   ],
   "source": [
    "#Trying to use grid search to test different C values and class_weights \n",
    "\n",
    "from sklearn import grid_search, cross_validation\n",
    "import numpy as np\n",
    "\n",
    "feature_set = df_final[['sex_male', 'pclass_1', 'pclass_3','sib_0','sib_1']]\n",
    "\n",
    "c = np.logspace(-10, 10, 21)\n",
    "cw = [None,'balanced'] #Class_weightwe'll talk about these later \n",
    "\n",
    "gs = grid_search.GridSearchCV(\n",
    "    estimator=LogisticRegression(),\n",
    "    param_grid={'C': c,'class_weight': cw},\n",
    "    cv=cross_validation.KFold(n=len(df_model),n_folds=5),\n",
    "    scoring='roc_auc')\n",
    "\n",
    "gs.fit(feature_set, df_final['Survived'])\n",
    "\n",
    "\n",
    "#Check solution code for the right outputs to print \n",
    "print (-gs.best_score_) # returns AUC \n",
    "print (gs.best_estimator_ )# I only used one estimator\n",
    "for row in gs.grid_scores_: # returns params and statistics for all combinations \n",
    "    print (row)"
   ]
  },
  {
   "cell_type": "markdown",
   "metadata": {
    "collapsed": true
   },
   "source": [
    "Interpetation:  \n",
    "The mean is returning the mean ROC_AUC. It is the mean of each of the kfolds.\n",
    "The best score is the one which has the largest AUC, which is where c=1 and class_weight = None, then AUC = 0.838"
   ]
  },
  {
   "cell_type": "code",
   "execution_count": 1,
   "metadata": {
    "collapsed": false
   },
   "outputs": [
    {
     "ename": "NameError",
     "evalue": "name 'titanic' is not defined",
     "output_type": "error",
     "traceback": [
      "\u001b[0;31m---------------------------------------------------------------------------\u001b[0m",
      "\u001b[0;31mNameError\u001b[0m                                 Traceback (most recent call last)",
      "\u001b[0;32m<ipython-input-1-8fc74c175437>\u001b[0m in \u001b[0;36m<module>\u001b[0;34m()\u001b[0m\n\u001b[1;32m      1\u001b[0m \u001b[1;31m# This creates a yes/no flag for siblings\u001b[0m\u001b[1;33m\u001b[0m\u001b[1;33m\u001b[0m\u001b[0m\n\u001b[0;32m----> 2\u001b[0;31m \u001b[0mtitanic\u001b[0m\u001b[1;33m[\u001b[0m\u001b[1;34m'had_siblings'\u001b[0m\u001b[1;33m]\u001b[0m \u001b[1;33m=\u001b[0m \u001b[0mtitanic\u001b[0m\u001b[1;33m.\u001b[0m\u001b[0mSibSp\u001b[0m\u001b[1;33m.\u001b[0m\u001b[0mapply\u001b[0m\u001b[1;33m(\u001b[0m\u001b[1;32mlambda\u001b[0m \u001b[0mx\u001b[0m\u001b[1;33m:\u001b[0m \u001b[1;36m1\u001b[0m \u001b[1;32mif\u001b[0m \u001b[0mx\u001b[0m \u001b[1;33m>\u001b[0m \u001b[1;36m0\u001b[0m \u001b[1;32melse\u001b[0m \u001b[1;36m0\u001b[0m\u001b[1;33m)\u001b[0m\u001b[1;33m\u001b[0m\u001b[0m\n\u001b[0m\u001b[1;32m      3\u001b[0m \u001b[1;33m\u001b[0m\u001b[0m\n\u001b[1;32m      4\u001b[0m \u001b[1;31m#roc_curve function returns fpr, tpr and threshold (typically defaults to 0.5)\u001b[0m\u001b[1;33m\u001b[0m\u001b[1;33m\u001b[0m\u001b[0m\n",
      "\u001b[0;31mNameError\u001b[0m: name 'titanic' is not defined"
     ]
    }
   ],
   "source": [
    "# This creates a yes/no flag for siblings \n",
    "titanic['had_siblings'] = titanic.SibSp.apply(lambda x: 1 if x > 0 else 0)\n",
    "\n",
    "# WE DIDNT USE THIS IN THE CLASS \n",
    "#But this should be the right syntax to produce a ROC plot.\n",
    "#roc_curve function returns fpr, tpr and threshold (typically defaults to 0.5)\n",
    "# So the X axis picks up the first column [0] which is FPR.\n",
    "# The y axis picks up the second column [1] which is TPR.\n",
    "\n",
    "actuals = lm.predict(df_final) \n",
    "probas = lm.predict_proba(df_final)\n",
    "plt.plot(roc_curve(df[['admit']], probas[:,1])[0], roc_curve(df[['admit']], probas[:,1])[1])\n",
    "\n",
    "#using predict function you will get a lower AUC, compared to using the probability.  That is because the prediction  \n",
    "#will use a default 0.5 threshold, whilst the probability is the unclassified prediction."
   ]
  },
  {
   "cell_type": "code",
   "execution_count": null,
   "metadata": {
    "collapsed": true
   },
   "outputs": [],
   "source": []
  }
 ],
 "metadata": {
  "kernelspec": {
   "display_name": "Python 3",
   "language": "python",
   "name": "python3"
  },
  "language_info": {
   "codemirror_mode": {
    "name": "ipython",
    "version": 3
   },
   "file_extension": ".py",
   "mimetype": "text/x-python",
   "name": "python",
   "nbconvert_exporter": "python",
   "pygments_lexer": "ipython3",
   "version": "3.6.0"
  }
 },
 "nbformat": 4,
 "nbformat_minor": 0
}
